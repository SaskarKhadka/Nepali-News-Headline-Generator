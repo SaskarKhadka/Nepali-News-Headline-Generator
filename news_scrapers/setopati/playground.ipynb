{
 "cells": [
  {
   "cell_type": "code",
   "execution_count": 8,
   "metadata": {},
   "outputs": [],
   "source": [
    "import pandas as pd\n",
    "import codecs"
   ]
  },
  {
   "cell_type": "code",
   "execution_count": 3,
   "metadata": {},
   "outputs": [],
   "source": [
    "with codecs.open('gorkhapatra_news.csv', 'r', 'utf-8') as file:\n",
    "    lines = pd.Series(file.readlines())\n",
    "    news_title = pd.Series([str(title).replace(\"\\n\", \"\") for title in lines[0::4]], name='title')\n",
    "    news_detail = pd.Series([str(detail).replace(\"\\n\", \"\") for detail in lines[1::4]], name='news')\n",
    "    news_category = pd.Series([str(category).replace(\"\\n\", \"\") for category in lines[2::4]], name='category')\n",
    "    news_published_date = pd.Series([str(published_date).replace(\"\\n\", \"\") for published_date in lines[3::4]], name='published_date')"
   ]
  },
  {
   "cell_type": "code",
   "execution_count": 4,
   "metadata": {},
   "outputs": [],
   "source": [
    "df = pd.concat([news_title, news_detail, news_category, news_published_date],axis=1)"
   ]
  },
  {
   "cell_type": "code",
   "execution_count": 5,
   "metadata": {},
   "outputs": [
    {
     "data": {
      "text/html": [
       "<div>\n",
       "<style scoped>\n",
       "    .dataframe tbody tr th:only-of-type {\n",
       "        vertical-align: middle;\n",
       "    }\n",
       "\n",
       "    .dataframe tbody tr th {\n",
       "        vertical-align: top;\n",
       "    }\n",
       "\n",
       "    .dataframe thead th {\n",
       "        text-align: right;\n",
       "    }\n",
       "</style>\n",
       "<table border=\"1\" class=\"dataframe\">\n",
       "  <thead>\n",
       "    <tr style=\"text-align: right;\">\n",
       "      <th></th>\n",
       "      <th>title</th>\n",
       "      <th>news</th>\n",
       "      <th>category</th>\n",
       "      <th>published_date</th>\n",
       "    </tr>\n",
       "  </thead>\n",
       "  <tbody>\n",
       "    <tr>\n",
       "      <th>0</th>\n",
       "      <td>एक ट्रक युरिया मल मिलेमतोमा बाटोबाटै गायब</td>\n",
       "      <td>काठमाडौँ — रौतहटको चन्द्रनिगाहपुरस्थित कृषि सा...</td>\n",
       "      <td>अर्थ / वाणिज्य</td>\n",
       "      <td>श्रावण ३२, २०८०</td>\n",
       "    </tr>\n",
       "    <tr>\n",
       "      <th>1</th>\n",
       "      <td>मर्जमा जाने लघुवित्तलाई राष्ट्र बैंकले लाभांश ...</td>\n",
       "      <td>काठमाडौँ — नेपाल राष्ट्र बैंकले मर्जमा जाने लघ...</td>\n",
       "      <td>अर्थ / वाणिज्य</td>\n",
       "      <td>श्रावण ३२, २०८०</td>\n",
       "    </tr>\n",
       "    <tr>\n",
       "      <th>2</th>\n",
       "      <td>परिणाममुखी हुनेगरी सोह्रौं योजना बनाउन आयोगलाई...</td>\n",
       "      <td>काठमाडौँ — नेपाल चेम्बर अफ कमर्सले सोह्रौं योज...</td>\n",
       "      <td>अर्थ / वाणिज्य</td>\n",
       "      <td>श्रावण ३२, २०८०</td>\n",
       "    </tr>\n",
       "    <tr>\n",
       "      <th>3</th>\n",
       "      <td>पानीको जार र बोतलमा तोकेभन्दा बढी मूल्य नलिन आ...</td>\n",
       "      <td>काठमाडौँ — नेपाल बोटल वाटर उद्योग संघले खानेपा...</td>\n",
       "      <td>अर्थ / वाणिज्य</td>\n",
       "      <td>श्रावण ३२, २०८०</td>\n",
       "    </tr>\n",
       "    <tr>\n",
       "      <th>4</th>\n",
       "      <td>८ अंक बढ्यो नेप्से, कारोबार रकम घट्यो</td>\n",
       "      <td>काठमाडौँ — बिहीबार सेयर बजारको परिसूचक नेप्से ...</td>\n",
       "      <td>अर्थ / वाणिज्य</td>\n",
       "      <td>श्रावण ३२, २०८०</td>\n",
       "    </tr>\n",
       "  </tbody>\n",
       "</table>\n",
       "</div>"
      ],
      "text/plain": [
       "                                               title  \\\n",
       "0          एक ट्रक युरिया मल मिलेमतोमा बाटोबाटै गायब   \n",
       "1  मर्जमा जाने लघुवित्तलाई राष्ट्र बैंकले लाभांश ...   \n",
       "2  परिणाममुखी हुनेगरी सोह्रौं योजना बनाउन आयोगलाई...   \n",
       "3  पानीको जार र बोतलमा तोकेभन्दा बढी मूल्य नलिन आ...   \n",
       "4              ८ अंक बढ्यो नेप्से, कारोबार रकम घट्यो   \n",
       "\n",
       "                                                news        category  \\\n",
       "0  काठमाडौँ — रौतहटको चन्द्रनिगाहपुरस्थित कृषि सा...  अर्थ / वाणिज्य   \n",
       "1  काठमाडौँ — नेपाल राष्ट्र बैंकले मर्जमा जाने लघ...  अर्थ / वाणिज्य   \n",
       "2  काठमाडौँ — नेपाल चेम्बर अफ कमर्सले सोह्रौं योज...  अर्थ / वाणिज्य   \n",
       "3  काठमाडौँ — नेपाल बोटल वाटर उद्योग संघले खानेपा...  अर्थ / वाणिज्य   \n",
       "4  काठमाडौँ — बिहीबार सेयर बजारको परिसूचक नेप्से ...  अर्थ / वाणिज्य   \n",
       "\n",
       "    published_date  \n",
       "0  श्रावण ३२, २०८०  \n",
       "1  श्रावण ३२, २०८०  \n",
       "2  श्रावण ३२, २०८०  \n",
       "3  श्रावण ३२, २०८०  \n",
       "4  श्रावण ३२, २०८०  "
      ]
     },
     "execution_count": 5,
     "metadata": {},
     "output_type": "execute_result"
    }
   ],
   "source": [
    "df.head()"
   ]
  },
  {
   "cell_type": "code",
   "execution_count": null,
   "metadata": {},
   "outputs": [],
   "source": [
    "df.to_csv('ekantipur_news_final.csv', index=None)"
   ]
  },
  {
   "cell_type": "code",
   "execution_count": 9,
   "metadata": {},
   "outputs": [],
   "source": [
    "def join_old_new():\n",
    "    df = pd.read_csv('ratopati_news_final2.csv')\n",
    "    df_old = pd.read_csv('ratopati_news_final.csv')\n",
    "    new = pd.concat([df, df_old], axis=0)\n",
    "    return new"
   ]
  },
  {
   "cell_type": "code",
   "execution_count": 10,
   "metadata": {},
   "outputs": [
    {
     "data": {
      "text/plain": [
       "5636"
      ]
     },
     "execution_count": 10,
     "metadata": {},
     "output_type": "execute_result"
    }
   ],
   "source": [
    "new = join_old_new()\n",
    "len(new[\"title\"])"
   ]
  },
  {
   "cell_type": "code",
   "execution_count": 7,
   "metadata": {},
   "outputs": [],
   "source": [
    "new.to_csv('ratopati_news_final.csv', index=None)"
   ]
  },
  {
   "cell_type": "code",
   "execution_count": null,
   "metadata": {},
   "outputs": [],
   "source": [
    "def remove_duplicates():\n",
    "    titles = []\n",
    "    with codecs.open('setopati_news_titles.csv', 'r', 'utf-8') as file:\n",
    "        titles += file.readlines()\n",
    "    series_titles = pd.Series(titles)\n",
    "    links = []\n",
    "    with codecs.open('setopati_news_links.csv', 'r', 'utf-8') as file:\n",
    "        links += file.readlines()\n",
    "    series_links = pd.Series(links)\n",
    "    ddff = pd.DataFrame({\"title\": series_titles, \"link\": series_links})\n",
    "    ddff = ddff.drop_duplicates(subset='title')\n",
    "    titless = ddff[\"title\"].array \n",
    "    linkss = ddff[\"link\"].array \n",
    "    with codecs.open('setopati_news_titles.csv', 'w', 'utf-8') as file:\n",
    "        file.write(\"\".join(titless))\n",
    "    with codecs.open('setopati_news_links.csv', 'w', 'utf-8') as file:\n",
    "        file.write(\"\".join(linkss))\n",
    "remove_duplicates()"
   ]
  }
 ],
 "metadata": {
  "kernelspec": {
   "display_name": "Python 3",
   "language": "python",
   "name": "python3"
  },
  "language_info": {
   "codemirror_mode": {
    "name": "ipython",
    "version": 3
   },
   "file_extension": ".py",
   "mimetype": "text/x-python",
   "name": "python",
   "nbconvert_exporter": "python",
   "pygments_lexer": "ipython3",
   "version": "3.11.4"
  },
  "orig_nbformat": 4
 },
 "nbformat": 4,
 "nbformat_minor": 2
}
