{
 "cells": [
  {
   "cell_type": "code",
   "execution_count": 1,
   "metadata": {},
   "outputs": [],
   "source": [
    "import pandas as pd\n",
    "import codecs"
   ]
  },
  {
   "cell_type": "code",
   "execution_count": 2,
   "metadata": {},
   "outputs": [],
   "source": [
    "def join_old_new():\n",
    "    df = pd.read_csv('nagarik_news_final2.csv')\n",
    "    df_old = pd.read_csv('nagarik_news_final.csv')\n",
    "    new = pd.concat([df, df_old], axis=0)\n",
    "    return new"
   ]
  },
  {
   "cell_type": "code",
   "execution_count": 3,
   "metadata": {},
   "outputs": [
    {
     "data": {
      "text/plain": [
       "51813"
      ]
     },
     "execution_count": 3,
     "metadata": {},
     "output_type": "execute_result"
    }
   ],
   "source": [
    "new = join_old_new()\n",
    "len(new[\"title\"])"
   ]
  },
  {
   "cell_type": "code",
   "execution_count": 4,
   "metadata": {},
   "outputs": [],
   "source": [
    "new.to_csv('nagarik_news_final.csv', index=None)"
   ]
  },
  {
   "cell_type": "markdown",
   "metadata": {},
   "source": [
    "FILTERING"
   ]
  },
  {
   "cell_type": "code",
   "execution_count": 2,
   "metadata": {},
   "outputs": [],
   "source": [
    "titles = []\n",
    "with codecs.open('nagarik_news_titles.csv', 'r', 'utf-8') as file:\n",
    "    titles += file.readlines()"
   ]
  },
  {
   "cell_type": "code",
   "execution_count": 3,
   "metadata": {},
   "outputs": [
    {
     "data": {
      "text/plain": [
       "1254"
      ]
     },
     "execution_count": 3,
     "metadata": {},
     "output_type": "execute_result"
    }
   ],
   "source": [
    "len(titles)"
   ]
  },
  {
   "cell_type": "code",
   "execution_count": 4,
   "metadata": {},
   "outputs": [],
   "source": [
    "series_titles = pd.Series(titles)"
   ]
  },
  {
   "cell_type": "code",
   "execution_count": 5,
   "metadata": {},
   "outputs": [],
   "source": [
    "links = []\n",
    "with codecs.open('nagarik_news_links.csv', 'r', 'utf-8') as file:\n",
    "    links += file.readlines()"
   ]
  },
  {
   "cell_type": "code",
   "execution_count": 6,
   "metadata": {},
   "outputs": [],
   "source": [
    "series_links = pd.Series(links)"
   ]
  },
  {
   "cell_type": "code",
   "execution_count": 7,
   "metadata": {},
   "outputs": [],
   "source": [
    "ddff = pd.DataFrame({\"title\": series_titles, \"link\": series_links})"
   ]
  },
  {
   "cell_type": "code",
   "execution_count": 8,
   "metadata": {},
   "outputs": [
    {
     "data": {
      "text/html": [
       "<div>\n",
       "<style scoped>\n",
       "    .dataframe tbody tr th:only-of-type {\n",
       "        vertical-align: middle;\n",
       "    }\n",
       "\n",
       "    .dataframe tbody tr th {\n",
       "        vertical-align: top;\n",
       "    }\n",
       "\n",
       "    .dataframe thead th {\n",
       "        text-align: right;\n",
       "    }\n",
       "</style>\n",
       "<table border=\"1\" class=\"dataframe\">\n",
       "  <thead>\n",
       "    <tr style=\"text-align: right;\">\n",
       "      <th></th>\n",
       "      <th>title</th>\n",
       "      <th>link</th>\n",
       "    </tr>\n",
       "  </thead>\n",
       "  <tbody>\n",
       "    <tr>\n",
       "      <th>0</th>\n",
       "      <td>भूकम्पका घाइतेका लागि क्रान्तिकारीले थाल्यो रक...</td>\n",
       "      <td>https://nagariknews.nagariknetwork.com/politic...</td>\n",
       "    </tr>\n",
       "    <tr>\n",
       "      <th>1</th>\n",
       "      <td>काँग्रेस महासमितिको बैठक मंसिर २९ देखि पुष २ स...</td>\n",
       "      <td>https://nagariknews.nagariknetwork.com/politic...</td>\n",
       "    </tr>\n",
       "    <tr>\n",
       "      <th>2</th>\n",
       "      <td>भूकम्पपछि राहत र उद्धार केन्द्रित सरकारका १८ न...</td>\n",
       "      <td>https://nagariknews.nagariknetwork.com/politic...</td>\n",
       "    </tr>\n",
       "    <tr>\n",
       "      <th>3</th>\n",
       "      <td>विधायिकाको भूमिका कमजोर भयो: नेत्री कठायत\\n</td>\n",
       "      <td>https://nagariknews.nagariknetwork.com/politic...</td>\n",
       "    </tr>\n",
       "    <tr>\n",
       "      <th>4</th>\n",
       "      <td>राहत सामग्री लिएर गृहमन्त्रीसहितको टोली भूकम्प...</td>\n",
       "      <td>https://nagariknews.nagariknetwork.com/politic...</td>\n",
       "    </tr>\n",
       "  </tbody>\n",
       "</table>\n",
       "</div>"
      ],
      "text/plain": [
       "                                               title  \\\n",
       "0  भूकम्पका घाइतेका लागि क्रान्तिकारीले थाल्यो रक...   \n",
       "1  काँग्रेस महासमितिको बैठक मंसिर २९ देखि पुष २ स...   \n",
       "2  भूकम्पपछि राहत र उद्धार केन्द्रित सरकारका १८ न...   \n",
       "3        विधायिकाको भूमिका कमजोर भयो: नेत्री कठायत\\n   \n",
       "4  राहत सामग्री लिएर गृहमन्त्रीसहितको टोली भूकम्प...   \n",
       "\n",
       "                                                link  \n",
       "0  https://nagariknews.nagariknetwork.com/politic...  \n",
       "1  https://nagariknews.nagariknetwork.com/politic...  \n",
       "2  https://nagariknews.nagariknetwork.com/politic...  \n",
       "3  https://nagariknews.nagariknetwork.com/politic...  \n",
       "4  https://nagariknews.nagariknetwork.com/politic...  "
      ]
     },
     "execution_count": 8,
     "metadata": {},
     "output_type": "execute_result"
    }
   ],
   "source": [
    "ddff.head()"
   ]
  },
  {
   "cell_type": "code",
   "execution_count": 9,
   "metadata": {},
   "outputs": [
    {
     "data": {
      "text/plain": [
       "1254"
      ]
     },
     "execution_count": 9,
     "metadata": {},
     "output_type": "execute_result"
    }
   ],
   "source": [
    "len(ddff[\"title\"])"
   ]
  },
  {
   "cell_type": "code",
   "execution_count": 10,
   "metadata": {},
   "outputs": [],
   "source": [
    "ddff = ddff.drop_duplicates(subset='title')"
   ]
  },
  {
   "cell_type": "code",
   "execution_count": 11,
   "metadata": {},
   "outputs": [
    {
     "data": {
      "text/plain": [
       "1242"
      ]
     },
     "execution_count": 11,
     "metadata": {},
     "output_type": "execute_result"
    }
   ],
   "source": [
    "len(ddff[\"title\"])"
   ]
  },
  {
   "cell_type": "code",
   "execution_count": 12,
   "metadata": {},
   "outputs": [
    {
     "data": {
      "text/plain": [
       "1242"
      ]
     },
     "execution_count": 12,
     "metadata": {},
     "output_type": "execute_result"
    }
   ],
   "source": [
    "len(ddff[\"link\"])"
   ]
  },
  {
   "cell_type": "code",
   "execution_count": 13,
   "metadata": {},
   "outputs": [],
   "source": [
    "titless = ddff[\"title\"].array "
   ]
  },
  {
   "cell_type": "code",
   "execution_count": 14,
   "metadata": {},
   "outputs": [],
   "source": [
    "linkss = ddff[\"link\"].array "
   ]
  },
  {
   "cell_type": "code",
   "execution_count": 15,
   "metadata": {},
   "outputs": [],
   "source": [
    "with codecs.open('nagarik_news_titles.csv', 'w', 'utf-8') as file:\n",
    "    file.write(\"\".join(titless))"
   ]
  },
  {
   "cell_type": "code",
   "execution_count": 16,
   "metadata": {},
   "outputs": [],
   "source": [
    "with codecs.open('nagarik_news_links.csv', 'w', 'utf-8') as file:\n",
    "    file.write(\"\".join(linkss))"
   ]
  },
  {
   "cell_type": "markdown",
   "metadata": {},
   "source": []
  },
  {
   "cell_type": "code",
   "execution_count": 17,
   "metadata": {},
   "outputs": [],
   "source": [
    "def remove_duplicates():\n",
    "    titles = []\n",
    "    with codecs.open('nagarik_news_titles.csv', 'r', 'utf-8') as file:\n",
    "        titles += file.readlines()\n",
    "    series_titles = pd.Series(titles)\n",
    "    links = []\n",
    "    with codecs.open('nagarik_news_links.csv', 'r', 'utf-8') as file:\n",
    "        links += file.readlines()\n",
    "    series_links = pd.Series(links)\n",
    "    ddff = pd.DataFrame({\"title\": series_titles, \"link\": series_links})\n",
    "    ddff = ddff.drop_duplicates(subset='title')\n",
    "    titless = ddff[\"title\"].array \n",
    "    linkss = ddff[\"link\"].array \n",
    "    with codecs.open('nagarik_news_titles.csv', 'w', 'utf-8') as file:\n",
    "        file.write(\"\".join(titless))\n",
    "    with codecs.open('nagarik_news_links.csv', 'w', 'utf-8') as file:\n",
    "        file.write(\"\".join(linkss))\n",
    "remove_duplicates()"
   ]
  },
  {
   "cell_type": "code",
   "execution_count": null,
   "metadata": {},
   "outputs": [],
   "source": []
  }
 ],
 "metadata": {
  "kernelspec": {
   "display_name": "Python 3",
   "language": "python",
   "name": "python3"
  },
  "language_info": {
   "codemirror_mode": {
    "name": "ipython",
    "version": 3
   },
   "file_extension": ".py",
   "mimetype": "text/x-python",
   "name": "python",
   "nbconvert_exporter": "python",
   "pygments_lexer": "ipython3",
   "version": "3.11.5"
  },
  "orig_nbformat": 4
 },
 "nbformat": 4,
 "nbformat_minor": 2
}
