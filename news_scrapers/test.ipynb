{
 "cells": [
  {
   "cell_type": "code",
   "execution_count": 1,
   "metadata": {},
   "outputs": [],
   "source": [
    "import pandas as pd\n",
    "import codecs "
   ]
  },
  {
   "cell_type": "code",
   "execution_count": 2,
   "metadata": {},
   "outputs": [],
   "source": [
    "ratopati = pd.read_csv('./ratopati/ratopati_news_final.csv')\n",
    "# onlinekhabar = pd.read_csv('./onlinekhabar/onlinekhabar_news_final.csv')\n",
    "# setopati = pd.read_csv('./setopati/setopati_news_final.csv')\n",
    "ujyaalo = pd.read_csv('./ujyaaloonline/ujyaalo_news_final.csv')\n",
    "techpana = pd.read_csv('./techpana/techpana_news_final.csv')\n",
    "nepalikhabar = pd.read_csv('./nepalikhabar/nepalikhabar_news_final.csv')\n",
    "ekagaj = pd.read_csv('./ekagaj/ekagaj_news_final.csv')"
   ]
  },
  {
   "cell_type": "code",
   "execution_count": 3,
   "metadata": {},
   "outputs": [
    {
     "data": {
      "text/plain": [
       "category\n",
       "विज्ञान र प्रविधि    21995\n",
       "Name: count, dtype: int64"
      ]
     },
     "execution_count": 3,
     "metadata": {},
     "output_type": "execute_result"
    }
   ],
   "source": [
    "techpana[\"category\"].value_counts()"
   ]
  },
  {
   "cell_type": "code",
   "execution_count": 4,
   "metadata": {},
   "outputs": [
    {
     "data": {
      "text/plain": [
       "category\n",
       "देश/प्रदेश        20585\n",
       "मनोरञ्जन          13526\n",
       "अर्थ / वाणिज्य     8357\n",
       "खेलकुद             6439\n",
       "विश्व              6009\n",
       "शिक्षा             1764\n",
       "Name: count, dtype: int64"
      ]
     },
     "execution_count": 4,
     "metadata": {},
     "output_type": "execute_result"
    }
   ],
   "source": [
    "ratopati[\"category\"].value_counts()"
   ]
  },
  {
   "cell_type": "code",
   "execution_count": 5,
   "metadata": {},
   "outputs": [
    {
     "data": {
      "text/plain": [
       "category\n",
       "समाज              10182\n",
       "राजनीति            6506\n",
       "अर्थ / वाणिज्य     5591\n",
       "मनोरञ्जन           1605\n",
       "Name: count, dtype: int64"
      ]
     },
     "execution_count": 5,
     "metadata": {},
     "output_type": "execute_result"
    }
   ],
   "source": [
    "ujyaalo[\"category\"].value_counts()"
   ]
  },
  {
   "cell_type": "code",
   "execution_count": 6,
   "metadata": {},
   "outputs": [
    {
     "data": {
      "text/plain": [
       "category\n",
       "समाज              6444\n",
       "खेलकुद            4598\n",
       "अर्थ / वाणिज्य    3985\n",
       "राजनीति           3237\n",
       "Name: count, dtype: int64"
      ]
     },
     "execution_count": 6,
     "metadata": {},
     "output_type": "execute_result"
    }
   ],
   "source": [
    "nepalikhabar[\"category\"].value_counts()"
   ]
  },
  {
   "cell_type": "code",
   "execution_count": 7,
   "metadata": {},
   "outputs": [
    {
     "data": {
      "text/plain": [
       "category\n",
       "राजनीति       11037\n",
       "देश/प्रदेश     7233\n",
       "Name: count, dtype: int64"
      ]
     },
     "execution_count": 7,
     "metadata": {},
     "output_type": "execute_result"
    }
   ],
   "source": [
    "ekagaj[\"category\"].value_counts()"
   ]
  },
  {
   "cell_type": "code",
   "execution_count": 8,
   "metadata": {},
   "outputs": [],
   "source": [
    "annapurna = pd.read_csv('./annapurna/annapurna_news_final.csv')\n",
    "dcnepal = pd.read_csv('./dcnepal/dcnepal_news_final.csv')\n",
    "ekantipur = pd.read_csv('./ekantipur/ekantipur_news_final.csv')\n",
    "gorkhapatra = pd.read_csv('./gorkhapatra/gorkhapatra_news_final.csv')\n",
    "imagekhabar = pd.read_csv('./imagekhabar/imagekhabar_news_final.csv')\n",
    "nagarik = pd.read_csv('./nagarik/nagarik_news_final.csv')"
   ]
  },
  {
   "cell_type": "code",
   "execution_count": 9,
   "metadata": {},
   "outputs": [
    {
     "data": {
      "text/plain": [
       "category\n",
       "समाज              11638\n",
       "राजनीति            9690\n",
       "स्वास्थ्य          8394\n",
       "विश्व              6387\n",
       "खेलकुद             5542\n",
       "मनोरञ्जन           4771\n",
       "अर्थ / वाणिज्य     4375\n",
       "Name: count, dtype: int64"
      ]
     },
     "execution_count": 9,
     "metadata": {},
     "output_type": "execute_result"
    }
   ],
   "source": [
    "annapurna[\"category\"].value_counts()"
   ]
  },
  {
   "cell_type": "code",
   "execution_count": 10,
   "metadata": {},
   "outputs": [
    {
     "data": {
      "text/plain": [
       "category\n",
       "देश/प्रदेश        9013\n",
       "समाज              7861\n",
       "राजनीति           6767\n",
       "खेलकुद            5857\n",
       "विश्व             5846\n",
       "मनोरञ्जन          3576\n",
       "अर्थ / वाणिज्य    3191\n",
       "Name: count, dtype: int64"
      ]
     },
     "execution_count": 10,
     "metadata": {},
     "output_type": "execute_result"
    }
   ],
   "source": [
    "dcnepal[\"category\"].value_counts()"
   ]
  },
  {
   "cell_type": "code",
   "execution_count": 11,
   "metadata": {},
   "outputs": [
    {
     "data": {
      "text/plain": [
       "category\n",
       "मनोरञ्जन          5404\n",
       "विश्व             5006\n",
       "खेलकुद            4971\n",
       "अर्थ / वाणिज्य    4049\n",
       "Name: count, dtype: int64"
      ]
     },
     "execution_count": 11,
     "metadata": {},
     "output_type": "execute_result"
    }
   ],
   "source": [
    "ekantipur[\"category\"].value_counts()"
   ]
  },
  {
   "cell_type": "code",
   "execution_count": 12,
   "metadata": {},
   "outputs": [
    {
     "data": {
      "text/plain": [
       "category\n",
       "देश/प्रदेश           6987\n",
       "राजनीति              6127\n",
       "अर्थ / वाणिज्य       2491\n",
       "खेलकुद               2416\n",
       "स्वास्थ्य            2265\n",
       "मनोरञ्जन             1666\n",
       "शिक्षा               1113\n",
       "विज्ञान र प्रविधि     285\n",
       "Name: count, dtype: int64"
      ]
     },
     "execution_count": 12,
     "metadata": {},
     "output_type": "execute_result"
    }
   ],
   "source": [
    "gorkhapatra[\"category\"].value_counts()"
   ]
  },
  {
   "cell_type": "code",
   "execution_count": 13,
   "metadata": {},
   "outputs": [
    {
     "data": {
      "text/plain": [
       "category\n",
       "देश/प्रदेश        7981\n",
       "समाज              7281\n",
       "राजनीति           7110\n",
       "विश्व             4961\n",
       "स्वास्थ्य         4622\n",
       "खेलकुद            4534\n",
       "अर्थ / वाणिज्य    3989\n",
       "मनोरञ्जन          3630\n",
       "शिक्षा             939\n",
       "Name: count, dtype: int64"
      ]
     },
     "execution_count": 13,
     "metadata": {},
     "output_type": "execute_result"
    }
   ],
   "source": [
    "imagekhabar[\"category\"].value_counts()"
   ]
  },
  {
   "cell_type": "code",
   "execution_count": 14,
   "metadata": {},
   "outputs": [
    {
     "data": {
      "text/plain": [
       "category\n",
       "विश्व                9608\n",
       "राजनीति              9501\n",
       "खेलकुद               8010\n",
       "स्वास्थ्य            7111\n",
       "अर्थ / वाणिज्य       6992\n",
       "समाज                 6801\n",
       "शिक्षा               2939\n",
       "विज्ञान र प्रविधि     850\n",
       "Name: count, dtype: int64"
      ]
     },
     "execution_count": 14,
     "metadata": {},
     "output_type": "execute_result"
    }
   ],
   "source": [
    "nagarik[\"category\"].value_counts()"
   ]
  },
  {
   "cell_type": "code",
   "execution_count": 15,
   "metadata": {},
   "outputs": [],
   "source": [
    "new = pd.concat([annapurna, dcnepal, ekantipur, gorkhapatra, imagekhabar, nagarik, ratopati, techpana, ujyaalo, nepalikhabar, ekagaj], axis=0)"
   ]
  },
  {
   "cell_type": "code",
   "execution_count": 16,
   "metadata": {},
   "outputs": [
    {
     "data": {
      "text/plain": [
       "371640"
      ]
     },
     "execution_count": 16,
     "metadata": {},
     "output_type": "execute_result"
    }
   ],
   "source": [
    "len(new[\"title\"])"
   ]
  },
  {
   "cell_type": "code",
   "execution_count": 17,
   "metadata": {},
   "outputs": [
    {
     "data": {
      "text/plain": [
       "category\n",
       "राजनीति              59975\n",
       "देश/प्रदेश           51799\n",
       "समाज                 50207\n",
       "अर्थ / वाणिज्य       43020\n",
       "खेलकुद               42367\n",
       "विश्व                37817\n",
       "मनोरञ्जन             34178\n",
       "विज्ञान र प्रविधि    23130\n",
       "स्वास्थ्य            22392\n",
       "शिक्षा                6755\n",
       "Name: count, dtype: int64"
      ]
     },
     "execution_count": 17,
     "metadata": {},
     "output_type": "execute_result"
    }
   ],
   "source": [
    "new[\"category\"].value_counts()"
   ]
  },
  {
   "cell_type": "code",
   "execution_count": 18,
   "metadata": {},
   "outputs": [
    {
     "data": {
      "text/plain": [
       "array(['समाज', 'राजनीति', 'मनोरञ्जन', 'स्वास्थ्य', 'विश्व', 'खेलकुद',\n",
       "       'अर्थ / वाणिज्य', 'देश/प्रदेश', 'विज्ञान र प्रविधि', 'शिक्षा'],\n",
       "      dtype=object)"
      ]
     },
     "execution_count": 18,
     "metadata": {},
     "output_type": "execute_result"
    }
   ],
   "source": [
    "new[\"category\"].unique()"
   ]
  },
  {
   "cell_type": "code",
   "execution_count": 19,
   "metadata": {},
   "outputs": [
    {
     "data": {
      "text/plain": [
       "title                2\n",
       "news                 2\n",
       "category             0\n",
       "published_date    1789\n",
       "dtype: int64"
      ]
     },
     "execution_count": 19,
     "metadata": {},
     "output_type": "execute_result"
    }
   ],
   "source": [
    "new.isnull().sum()"
   ]
  },
  {
   "cell_type": "code",
   "execution_count": 20,
   "metadata": {},
   "outputs": [
    {
     "data": {
      "text/html": [
       "<div>\n",
       "<style scoped>\n",
       "    .dataframe tbody tr th:only-of-type {\n",
       "        vertical-align: middle;\n",
       "    }\n",
       "\n",
       "    .dataframe tbody tr th {\n",
       "        vertical-align: top;\n",
       "    }\n",
       "\n",
       "    .dataframe thead th {\n",
       "        text-align: right;\n",
       "    }\n",
       "</style>\n",
       "<table border=\"1\" class=\"dataframe\">\n",
       "  <thead>\n",
       "    <tr style=\"text-align: right;\">\n",
       "      <th></th>\n",
       "      <th>title</th>\n",
       "      <th>news</th>\n",
       "      <th>category</th>\n",
       "      <th>published_date</th>\n",
       "    </tr>\n",
       "  </thead>\n",
       "  <tbody>\n",
       "    <tr>\n",
       "      <th>0</th>\n",
       "      <td>एमालेको प्रदेश प्रतिनिधिमा उदयपुरबाट सर्वसम्मत</td>\n",
       "      <td>उदयपुर : नेकपा एमाले कोशी प्रदेश कमिटीको प्रथम...</td>\n",
       "      <td>समाज</td>\n",
       "      <td>असोज ७, २०८० आइतबार १७:४३:४६</td>\n",
       "    </tr>\n",
       "    <tr>\n",
       "      <th>1</th>\n",
       "      <td>गौशालाबाट लुटियो ६ लाख ५० हजार रुपैयाँ</td>\n",
       "      <td>महोत्तरी : गौशाला नगरपालिका-११ भरतपुरका शम्भु ...</td>\n",
       "      <td>समाज</td>\n",
       "      <td>असोज ७, २०८० आइतबार १७:२३:५८</td>\n",
       "    </tr>\n",
       "    <tr>\n",
       "      <th>2</th>\n",
       "      <td>आगलागीमा ४ करोड बढीको क्षति, पीडितलाई तत्काल र...</td>\n",
       "      <td>मुगु  : जिल्ला सदरमुकाम गमगढीमा शुक्रबार राति ...</td>\n",
       "      <td>समाज</td>\n",
       "      <td>असोज ७, २०८० आइतबार १७:८:३९</td>\n",
       "    </tr>\n",
       "    <tr>\n",
       "      <th>3</th>\n",
       "      <td>तलेजुको दर्शन गर्न पूर्वराजा ज्ञानेन्द्र शाह भ...</td>\n",
       "      <td>भक्तपुर : पूर्वराजा ज्ञानेन्द्र शाह भक्तपुर आए...</td>\n",
       "      <td>समाज</td>\n",
       "      <td>असोज ७, २०८० आइतबार १६:५०:२१</td>\n",
       "    </tr>\n",
       "    <tr>\n",
       "      <th>4</th>\n",
       "      <td>वीरगन्जको खेतबाट ८ हजार ९१५ पिस लागूऔषध बरामद</td>\n",
       "      <td>वीरगन्ज : वीरगन्ज महानगरपालिका-२२  मनियारीस्थि...</td>\n",
       "      <td>समाज</td>\n",
       "      <td>असोज ७, २०८० आइतबार १६:४४:२५</td>\n",
       "    </tr>\n",
       "  </tbody>\n",
       "</table>\n",
       "</div>"
      ],
      "text/plain": [
       "                                               title  \\\n",
       "0     एमालेको प्रदेश प्रतिनिधिमा उदयपुरबाट सर्वसम्मत   \n",
       "1             गौशालाबाट लुटियो ६ लाख ५० हजार रुपैयाँ   \n",
       "2  आगलागीमा ४ करोड बढीको क्षति, पीडितलाई तत्काल र...   \n",
       "3  तलेजुको दर्शन गर्न पूर्वराजा ज्ञानेन्द्र शाह भ...   \n",
       "4      वीरगन्जको खेतबाट ८ हजार ९१५ पिस लागूऔषध बरामद   \n",
       "\n",
       "                                                news category  \\\n",
       "0  उदयपुर : नेकपा एमाले कोशी प्रदेश कमिटीको प्रथम...     समाज   \n",
       "1  महोत्तरी : गौशाला नगरपालिका-११ भरतपुरका शम्भु ...     समाज   \n",
       "2  मुगु  : जिल्ला सदरमुकाम गमगढीमा शुक्रबार राति ...     समाज   \n",
       "3  भक्तपुर : पूर्वराजा ज्ञानेन्द्र शाह भक्तपुर आए...     समाज   \n",
       "4  वीरगन्ज : वीरगन्ज महानगरपालिका-२२  मनियारीस्थि...     समाज   \n",
       "\n",
       "                 published_date  \n",
       "0  असोज ७, २०८० आइतबार १७:४३:४६  \n",
       "1  असोज ७, २०८० आइतबार १७:२३:५८  \n",
       "2   असोज ७, २०८० आइतबार १७:८:३९  \n",
       "3  असोज ७, २०८० आइतबार १६:५०:२१  \n",
       "4  असोज ७, २०८० आइतबार १६:४४:२५  "
      ]
     },
     "execution_count": 20,
     "metadata": {},
     "output_type": "execute_result"
    }
   ],
   "source": [
    "new.head()"
   ]
  },
  {
   "cell_type": "code",
   "execution_count": 21,
   "metadata": {},
   "outputs": [
    {
     "data": {
      "text/html": [
       "<div>\n",
       "<style scoped>\n",
       "    .dataframe tbody tr th:only-of-type {\n",
       "        vertical-align: middle;\n",
       "    }\n",
       "\n",
       "    .dataframe tbody tr th {\n",
       "        vertical-align: top;\n",
       "    }\n",
       "\n",
       "    .dataframe thead th {\n",
       "        text-align: right;\n",
       "    }\n",
       "</style>\n",
       "<table border=\"1\" class=\"dataframe\">\n",
       "  <thead>\n",
       "    <tr style=\"text-align: right;\">\n",
       "      <th></th>\n",
       "      <th>title</th>\n",
       "      <th>news</th>\n",
       "      <th>category</th>\n",
       "      <th>published_date</th>\n",
       "    </tr>\n",
       "  </thead>\n",
       "  <tbody>\n",
       "    <tr>\n",
       "      <th>count</th>\n",
       "      <td>371638</td>\n",
       "      <td>371638</td>\n",
       "      <td>371640</td>\n",
       "      <td>369851</td>\n",
       "    </tr>\n",
       "    <tr>\n",
       "      <th>unique</th>\n",
       "      <td>356717</td>\n",
       "      <td>365709</td>\n",
       "      <td>10</td>\n",
       "      <td>304528</td>\n",
       "    </tr>\n",
       "    <tr>\n",
       "      <th>top</th>\n",
       "      <td>यस्तो छ आजको विदेशी मुद्राको विनिमय दर</td>\n",
       "      <td>काठमाडौं ।</td>\n",
       "      <td>राजनीति</td>\n",
       "      <td>१७ फागुन २०७९, बुधबार</td>\n",
       "    </tr>\n",
       "    <tr>\n",
       "      <th>freq</th>\n",
       "      <td>342</td>\n",
       "      <td>31</td>\n",
       "      <td>59975</td>\n",
       "      <td>101</td>\n",
       "    </tr>\n",
       "  </tbody>\n",
       "</table>\n",
       "</div>"
      ],
      "text/plain": [
       "                                         title        news category  \\\n",
       "count                                   371638      371638   371640   \n",
       "unique                                  356717      365709       10   \n",
       "top     यस्तो छ आजको विदेशी मुद्राको विनिमय दर  काठमाडौं ।  राजनीति   \n",
       "freq                                       342          31    59975   \n",
       "\n",
       "               published_date  \n",
       "count                  369851  \n",
       "unique                 304528  \n",
       "top     १७ फागुन २०७९, बुधबार  \n",
       "freq                      101  "
      ]
     },
     "execution_count": 21,
     "metadata": {},
     "output_type": "execute_result"
    }
   ],
   "source": [
    "new.describe()"
   ]
  }
 ],
 "metadata": {
  "kernelspec": {
   "display_name": "Python 3",
   "language": "python",
   "name": "python3"
  },
  "language_info": {
   "codemirror_mode": {
    "name": "ipython",
    "version": 3
   },
   "file_extension": ".py",
   "mimetype": "text/x-python",
   "name": "python",
   "nbconvert_exporter": "python",
   "pygments_lexer": "ipython3",
   "version": "3.11.5"
  },
  "orig_nbformat": 4
 },
 "nbformat": 4,
 "nbformat_minor": 2
}
