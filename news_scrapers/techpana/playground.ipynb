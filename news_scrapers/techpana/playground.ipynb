{
 "cells": [
  {
   "cell_type": "code",
   "execution_count": 5,
   "metadata": {},
   "outputs": [],
   "source": [
    "import pandas as pd\n",
    "import codecs"
   ]
  },
  {
   "cell_type": "code",
   "execution_count": 6,
   "metadata": {},
   "outputs": [],
   "source": [
    "def join_old_new():\n",
    "    df = pd.read_csv('techpana_news_final2.csv')\n",
    "    df_old = pd.read_csv('techpana_news_final.csv')\n",
    "    new = pd.concat([df, df_old], axis=0)\n",
    "    return new"
   ]
  },
  {
   "cell_type": "code",
   "execution_count": 7,
   "metadata": {},
   "outputs": [
    {
     "data": {
      "text/plain": [
       "21995"
      ]
     },
     "execution_count": 7,
     "metadata": {},
     "output_type": "execute_result"
    }
   ],
   "source": [
    "new = join_old_new()\n",
    "len(new[\"title\"])"
   ]
  },
  {
   "cell_type": "code",
   "execution_count": 8,
   "metadata": {},
   "outputs": [],
   "source": [
    "new.to_csv('techpana_news_final.csv', index=None)"
   ]
  },
  {
   "cell_type": "code",
   "execution_count": null,
   "metadata": {},
   "outputs": [],
   "source": [
    "def remove_duplicates():\n",
    "    titles = []\n",
    "    with codecs.open('techpana_news_titles.csv', 'r', 'utf-8') as file:\n",
    "        titles += file.readlines()\n",
    "    series_titles = pd.Series(titles)\n",
    "    links = []\n",
    "    with codecs.open('techpana_news_links.csv', 'r', 'utf-8') as file:\n",
    "        links += file.readlines()\n",
    "    series_links = pd.Series(links)\n",
    "    ddff = pd.DataFrame({\"title\": series_titles, \"link\": series_links})\n",
    "    ddff = ddff.drop_duplicates(subset='title')\n",
    "    titless = ddff[\"title\"].array \n",
    "    linkss = ddff[\"link\"].array \n",
    "    with codecs.open('techpana_news_titles.csv', 'w', 'utf-8') as file:\n",
    "        file.write(\"\".join(titless))\n",
    "    with codecs.open('techpana_news_links.csv', 'w', 'utf-8') as file:\n",
    "        file.write(\"\".join(linkss))\n",
    "remove_duplicates()"
   ]
  }
 ],
 "metadata": {
  "kernelspec": {
   "display_name": "Python 3",
   "language": "python",
   "name": "python3"
  },
  "language_info": {
   "codemirror_mode": {
    "name": "ipython",
    "version": 3
   },
   "file_extension": ".py",
   "mimetype": "text/x-python",
   "name": "python",
   "nbconvert_exporter": "python",
   "pygments_lexer": "ipython3",
   "version": "3.11.4"
  },
  "orig_nbformat": 4
 },
 "nbformat": 4,
 "nbformat_minor": 2
}
