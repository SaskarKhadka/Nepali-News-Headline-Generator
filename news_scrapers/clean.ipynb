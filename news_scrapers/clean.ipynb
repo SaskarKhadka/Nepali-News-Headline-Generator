{
 "cells": [
  {
   "cell_type": "code",
   "execution_count": 5,
   "metadata": {},
   "outputs": [],
   "source": [
    "import pandas as pd\n",
    "import codecs \n",
    "import re"
   ]
  },
  {
   "cell_type": "code",
   "execution_count": 2,
   "metadata": {},
   "outputs": [
    {
     "data": {
      "text/plain": [
       "['स', 'क', '्', 'द', 'ै', 'न', 'ः']"
      ]
     },
     "execution_count": 2,
     "metadata": {},
     "output_type": "execute_result"
    }
   ],
   "source": [
    "[x for x in \"सक्दैनः\"]"
   ]
  },
  {
   "cell_type": "code",
   "execution_count": 3,
   "metadata": {},
   "outputs": [],
   "source": [
    "ratopati = pd.read_csv('./ratopati/ratopati_news_final.csv')\n",
    "ujyaalo = pd.read_csv('./ujyaaloonline/ujyaalo_news_final.csv')\n",
    "techpana = pd.read_csv('./techpana/techpana_news_final.csv')\n",
    "nepalikhabar = pd.read_csv('./nepalikhabar/nepalikhabar_news_final.csv')\n",
    "ekagaj = pd.read_csv('./ekagaj/ekagaj_news_final.csv')\n",
    "annapurna = pd.read_csv('./annapurna/annapurna_news_final.csv')\n",
    "dcnepal = pd.read_csv('./dcnepal/dcnepal_news_final.csv')\n",
    "ekantipur = pd.read_csv('./ekantipur/ekantipur_news_final.csv')\n",
    "gorkhapatra = pd.read_csv('./gorkhapatra/gorkhapatra_news_final.csv')\n",
    "imagekhabar = pd.read_csv('./imagekhabar/imagekhabar_news_final.csv')\n",
    "nagarik = pd.read_csv('./nagarik/nagarik_news_final.csv')"
   ]
  },
  {
   "cell_type": "markdown",
   "metadata": {},
   "source": [
    "आरोहणका लागि अनुमति नभएका हिमाल खुला गर्नुपर्छ : राष्ट्रपति<br>\n",
    "जनतामा छाएको निराशालाई सम्बोधन गर्न सबै दलहरु एक हुनुपर्छ : लामिछाने<br>\n",
    "अर्थतन्त्रको दबाब हटाउन राष्ट्रिय गोलमेच गर्छौँ : प्रधानमन्त्री दाहाल<br>\n",
    "बजेट डडेलधुरा, गोरखा र नुवाकोट केन्द्रित भयो भन्ने सुनेको छु जवाफ माग्छुः माधव नेपाल<br>\n",
    "उच्चस्तरीय आयोग गठनबारे विश्वप्रकाशको टिप्पणीः प्रतिपक्षलाई विश्वासमा लिन बनाइएको रंगिन टालो<br>\n",
    "\n",
    "\n",
    "Seperate at (\" : \") and remove whichever is the shortest.<br>\n",
    "For last if both are >=4 remove such article.<br>\n",
    "(Same as above) Also remove any article such that (\" : \") exists and both of the side has >2 words and the differnece between the words in both sides is -2 <= = <= 2<br>\n",
    "\n",
    "पर्यटन बोर्डले बजेट सुधार नगरेसम्म बजेट पास हुन सक्दैनः मन्त्री किराँती<br>\n",
    "\n",
    "\n",
    "Seperate at (\" : \"), if index 0 length < index 1 length, keep the index 0, just remove the colon given it doesnot satisfy the >=4 constraints<br>\n",
    "प्रदीप पौडेलको खबरदारी : सरकारले सार्वजनिक जग्गाको दुरुपयोग नगरोस्\n",
    "\n",
    "\n",
    "First try checking manually if feasible<br>\n",
    "राष्ट्रियसभाका बैठक : सांसदको सङ्ख्या घटाउन माग"
   ]
  },
  {
   "cell_type": "code",
   "execution_count": 4,
   "metadata": {},
   "outputs": [],
   "source": [
    "'''\n",
    "1. Remove first part\n",
    "2. Remove second part\n",
    "3. Remove third part\n",
    "4. Remove first, second part\n",
    "5. Remove first, third part\n",
    "6. Remove second, third part\n",
    "7. Remove all\n",
    "8. Remove None\n",
    "'''\n",
    "\n",
    "def resolve_slicing(title, join=\" \", split=\" : \"):\n",
    "    print(title)\n",
    "    # title_split = title.split(split)\n",
    "    # operation = input(\"Enter command: \")\n",
    "    # if operation == \"1\":\n",
    "    #     return title_split[1] + join + title_split[2]\n",
    "    # elif operation == \"2\":\n",
    "    #     return title_split[0] + join + title_split[2]\n",
    "    # elif operation == \"3\":\n",
    "    #     return title_split[0] + join + title_split[1] + join.strip()\n",
    "    # elif operation == \"4\":\n",
    "    #     return title_split[2]\n",
    "    # elif operation == \"5\":\n",
    "    #     return title_split[1] + join.strip()\n",
    "    # elif operation == \"6\":\n",
    "    #     return title_split[0] + join.strip()\n",
    "    # elif operation == \"7\":\n",
    "    #     return \"\"\n",
    "    # elif operation == \"8\":\n",
    "    #     return join.join(title_split)\n",
    "    \n",
    "def predefined_slicing_nagarik(title, join=\" \", split=\" : \"):\n",
    "\n",
    "    if title == \"नगरपालिकामा 'एक शिक्षक : एक ल्यापटप' कार्यक्रम: शिक्षक भए खुसी!\":\n",
    "        return \"नगरपालिकामा 'एक शिक्षक एक ल्यापटप' कार्यक्रम शिक्षक भए खुसी\"\n",
    "    \n",
    "    elif title == \"लम्पिस्किन रोगको संक्रमण क्रमशः घटने क्रममा छः मन्त्री भुसाल\":\n",
    "        return \"लम्पिस्किन रोगको संक्रमण घटने क्रममा छ\"\n",
    "    \n",
    "    elif title == \"अमेरिका निर्वाचन २०२०ः जोर्जियामा हातैले पुनः मतगणना गरिने\":\n",
    "        return \"अमेरिका निर्वाचन २०२० जोर्जियामा हातैले पुन मतगणना गरिने\"\n",
    "    \n",
    "    elif title == \"नेपालमा राजतन्त्र पुनः स्थापना हुन असम्भव छः संयोजक बास्तोला\":\n",
    "        return \"नेपालमा राजतन्त्र पुन स्थापना हुन असम्भव छ\"\n",
    "    \n",
    "    elif title == \"रास्वपालाई पुन: सरकारमा ल्याउने विषयमा छलफल भयाे: अध्यक्ष लिङ्देन\":\n",
    "        return \"रास्वपालाई पुन सरकारमा ल्याउने विषयमा छलफल भयाे\"\n",
    "    \n",
    "    elif title == \"राष्ट्रिय स्वतन्त्र पार्टीलाई पुनः सरकारमा ल्याउने प्रयत्न जारी छः मन्त्री शर्मा\":\n",
    "        return \"राष्ट्रिय स्वतन्त्र पार्टीलाई पुन सरकारमा ल्याउने प्रयत्न जारी छ\"\n",
    "    \n",
    "    elif title == \"आयोग कडा भएको छैनः कानूनको पालना मात्रै गराएको होः प्रमुख आयुक्त थपलिया\":\n",
    "        return \"आयोग कडा भएको छैन कानूनको पालना मात्रै गराएको हो\"\n",
    "    \n",
    "    elif title == \"विराट गोल्डकपः अफ्रिकनलाई पुनः हराउँदै संकटा सेमिफाइनलमा\":\n",
    "        return \"विराट गोल्डकप अफ्रिकनलाई पुन हराउँदै संकटा सेमिफाइनलमा\"\n",
    "    \n",
    "    elif title == \"मौद्रिक नीतिको समीक्षामा निजी क्षेत्र: आर्थिक गतिविधि प्रभावित हुन्छ: महासंघ\":\n",
    "        return \"मौद्रिक नीतिको समीक्षामा निजी क्षेत्रमा आर्थिक गतिविधि प्रभावित हुन्छ\"\n",
    "    \n",
    "    elif title == \"पुनः लकडाउन गर्नु परे मुलुक आर्थिक रुपमा चल्न नसक्ने हुन्छः अर्थमन्त्री\":\n",
    "        return \"पुन लकडाउन गर्नु परे मुलुक आर्थिक रुपमा चल्न नसक्ने हुन्छ\"\n",
    "    \n",
    "    elif title == \"गन्तव्य: विद्युतीय सवारीमा सरकारी दृष्टिकोण: नीतिमा प्राथमिकता, व्यवहारमा उपेक्षा\":\n",
    "        return \"विद्युतीय सवारीमा सरकारी दृष्टिकोण नीतिमा प्राथमिकता, व्यवहारमा उपेक्षा\"\n",
    "        \n",
    "def predefined_slicing_imagekhabar(title, join=\" \", split=\" : \"):\n",
    "\n",
    "    if title == \"जिया खान आत्महत्या प्रकरण : उच्च अदालतद्वारा आमा राबियाको पुन: छानबिनको निवेदन खारेज\":\n",
    "        return \"जिया खान आत्महत्या प्रकरण उच्च अदालतद्वारा आमा राबियाको पुन छानबिनको निवेदन खारेज\"\n",
    "    \n",
    "    elif title == \"बाजा प्रतियोगितामा लूनिभाः धिमे खलः उत्कृष्ट\":\n",
    "        return \"बाजा प्रतियोगितामा लूनिभा धिमे खल उत्कृष्ट\"\n",
    "    \n",
    "    elif title == \"केही दिनभित्रै मधेश सरकार पुनः गठन हुन्छः अध्यक्ष यादव\":\n",
    "        return \"केही दिनभित्रै मधेश सरकार पुन गठन हुन्छ\"\n",
    "    \n",
    "    elif title == \"इरानविरुद्ध अमेरिकाले पुनः प्रतिबन्ध लगाएपछि इरानले भन्योः मनोवैज्ञानिक युद्ध किन ?\":\n",
    "        return \"इरानविरुद्ध अमेरिकाले पुन प्रतिबन्ध लगाएपछि इरानले भन्यो मनोवैज्ञानिक युद्ध किन\"\n",
    "    \n",
    "    elif title == \"विवादास्पद विधेयक छलफलमा लैजाऔं : अधिकारी, सत्ताधारी शीर्ष नेता निरंकुश बने : देव\":\n",
    "        return \"विवादास्पद विधेयक छलफलमा लैजाऔं, सत्ताधारी शीर्ष नेता निरंकुश बने\"\n",
    "    \n",
    "    elif title == \"महरालाई सांसदका रुपमा चिन्दैनौं : नेम्वाङ, साधारण नागरिकसरह नै छानबिन : महान्यायाधिवक्ता\":\n",
    "        return \"महरालाई सांसदका रुपमा चिन्दैनौं\"\n",
    "    \n",
    "    elif title == \"सरकार अधिनायकवादतर्फ उन्मुख : देउवा, राज्यको ढुकुटी कार्यकर्तालाई बाँडियो : पौडेल\":\n",
    "        return \"\"\n",
    "    \n",
    "    elif title == \"सरकार र सभामुख जनताका आवाज दबाउन उद्दत : खाँण, विपक्षीले कार्यविधि उल्लंघन गरे : रावल\":\n",
    "        return \"सरकार र सभामुख जनताका आवाज दबाउन उद्दत, विपक्षीले कार्यविधि उल्लंघन गरे\"\n",
    "    \n",
    "    elif title == \"धर्म, संस्कृितमाथि हस्तक्षेप : सांसद केसी, गुठी विधेयकका विषयमा भ्रम छरियो : सांसद चौधरी\":\n",
    "        return \"धर्म, संस्कृितमाथि हस्तक्षेप गुठी विधेयकका विषयमा भ्रम छरियो\"\n",
    "    \n",
    "    elif title == \"सभापति देउवा निवासमा नेवि संघको धर्नाः देउवाले भनेः ‘नयाँ निर्णय गर्छु’\":\n",
    "        return \"सभापति देउवा निवासमा नेवि संघको धर्ना देउवाले भने ‘नयाँ निर्णय गर्छु’\"\n",
    "    \n",
    "    elif title == \"नेताहरुको विरोधमात्र नगर्नोस् : देउवा, नेतृत्वको कार्यशैलीमा समस्या : पौडेल\":\n",
    "        return \"नेताहरुको विरोधमात्र नगर्नोस्\"\n",
    "    \n",
    "    elif title == \"रेल र पानीजहाज ल्याएरै छाडिन्छ : प्रधानमन्त्री, सरकारलाई अपदस्थ गर्न षड्यन्त्र : दाहाल\":\n",
    "        return \"रेल र पानीजहाज ल्याएरै छाडिन्छ\"\n",
    "    \n",
    "    elif title == \"आरोप–प्रत्यारोप राम्रो होइन : श्रेष्ठ, पुनर्जीवन दिन्छ : शर्मा (भिडियो)\":\n",
    "        return \"आरोप–प्रत्यारोप राम्रो होइन\"\n",
    "    \n",
    "    elif title == \"नीति तथा कार्यक्रम असल निबन्ध : कांग्रेस नेता कार्की, पूर्ण छैन : राजेन्द्र महतो\":\n",
    "        return \"\"\n",
    "    \n",
    "    elif title == \"सुनको मूल्य पुनः उकालो, पुनः तोलाको ५६ हजार\":\n",
    "        return \"सुनको मूल्य पुन उकालो तोलाको ५६ हजार\"\n",
    "\n",
    "def predefined_slicing_gorkhapatra(title, join=\" \", split=\" : \"):\n",
    "    if title == \"भुसाललाई निलम्बन हुनसक्छ : बडाल, बदलाभावले कारबाही सिफारिस : भुसाल\":\n",
    "        return \"बडाल भन्छन् भुसाललाई निलम्बन हुनसक्छ\"\n",
    "\n",
    "def predefined_slicing_ekantipur(title, join=\" \", split=\" : \"):\n",
    "    if title == \"चीनमा कोरोना संक्रमण पुन: फैलिँदै : सांघाईमा ३ जनाको मृत्यु\":\n",
    "        return \"चीनमा कोरोना संक्रमण पुन फैलिँदै सांघाईमा ३ जनाको मृत्यु\"\n",
    "    \n",
    "    elif title == \"अर्थतन्त्र सुधार्न काम गर्छु : अर्थमन्त्री, कर्मचारीको पूर्ण सहयोग रहन्छ : राजस्व सचिव\":\n",
    "        return \"अर्थमन्त्री भन्छन् अर्थतन्त्र सुधार्न काम गर्छु राजस्व सचिव भन्छन् कर्मचारीको पूर्ण सहयोग रहन्छ\"\n",
    "    \n",
    "def predefined_slicing_dcnepal(title, join=\" \", split=\" : \"):\n",
    "\n",
    "    if title == \"शुक्रबार चलचित्रः हलमा ‘चि मुसी चिः इभन डेड डिजायर बिलोङ्गिङ’\":\n",
    "        return \"शुक्रबार हलमा ‘चि मुसी चि इभन डेड डिजायर बिलोङ्गिङ’\"\n",
    "    \n",
    "    elif title == \"महोत्तरीको पुनः मतगणना परिणामः पार्टीले स्वीकार्यो, उम्मेदवारको आपत्ती\":\n",
    "        return \"महोत्तरीको पुन मतगणना परिणाम पार्टीले स्वीकार्यो, उम्मेदवारको आपत्ती\"\n",
    "    \n",
    "    elif title == \"मुख्यमन्त्रीका रूपमा पुनः दोहोरिने मन छः मुख्यमन्त्री राई\":\n",
    "        return \"मुख्यमन्त्री राई मुख्यमन्त्रीका रूपमा पुन दोहोरिने मन छ\"\n",
    "    \n",
    "    elif title == \"कोरोना सङ्क्रमणः भारत, पाकिस्तान र मलेसियामा क्रमशः कम हुँदै\":\n",
    "        return \"भारत, पाकिस्तान र मलेसियामा कोरोना सङ्क्रमण कम हुँदै\"\n",
    "    \n",
    "    elif title == \"सेप्टेम्बरसम्म दक्षिणी युक्रेन पुनः कब्जा गर्छौः युक्रेन\":\n",
    "        return \"सेप्टेम्बरसम्म दक्षिणी युक्रेन पुन कब्जा गर्छौ\"\n",
    "    \n",
    "    elif title == \"कांग्रेस महाधिवेशनः सभापति चयनका लागि पुनः मतदान दिउँसो ३ः३० बजेदेखि\":\n",
    "        return \"कांग्रेस महाधिवेशन सभापति चयनका लागि पुन मतदान दिउँसो ३ः३० बजेदेखि\"\n",
    "    \n",
    "    elif title == \"कांग्रेस महाधिवेशन : म निर्विकल्प सभापतिको उम्मेदवार हुँ : विमलेन्द्र निधि\":\n",
    "        return \"विमलेन्द्र निधि भन्छन् म निर्विकल्प सभापतिको उम्मेदवार हुँ\"\n",
    "    \n",
    "    elif title == \"कांग्रेस अधिवेशनः बागलुङ जिल्ला सभापतिमा ५१ प्रतिशत मत नआएपछि पुनः मतदान\":\n",
    "        return \"बागलुङ जिल्ला सभापतिमा ५१ प्रतिशत मत नआएपछि पुन मतदान\"\n",
    "    \n",
    "    elif title == \"निकुञ्जका विस्थापित परिवारलाई पुनः स्थापना गरिनुपर्नेः मन्त्री आले\":\n",
    "        return \"निकुञ्जका विस्थापित परिवारलाई पुन स्थापना गरिनुपर्ने\"\n",
    "    \n",
    "    elif title == \"मोतीपुर घटना : त्यो कारवाही नगरेको भए अझै ठूलो क्षति हुने थियो : प्रजिअ तिवारी\":\n",
    "        return \"मोतीपुर घटना त्यो कारवाही नगरेको भए अझै ठूलो क्षति हुने थियो\"\n",
    "    \n",
    "    elif title == \"बालेनले कटाए २५ हजार मत: : स्थापित र सिर्जना धेरै पछि\":\n",
    "        return \"बालेनले कटाए २५ हजार मत स्थापित र सिर्जना धेरै पछि\"\n",
    "    \n",
    "def predefined_slicing_annapurna(title, join=\" \", split=\" : \"):\n",
    "\n",
    "    if title == \"वार्तामा नआएपछि ईः अभियन्तासँग बालेन आक्रोशित, ईः भन्छन्- नगर प्रहरीले 'त्यसोभए मेयर भेट्दैन' भन्दै रिसाए\":\n",
    "        return \"वार्तामा नआएपछि ई अभियन्तासँग बालेन आक्रोशित, ई भन्छन् नगर प्रहरीले 'त्यसोभए मेयर भेट्दैन' भन्दै रिसाए\"\n",
    "    \n",
    "    elif title == \"उदयपुरमा थप ८ जनामा कोरोना रिर्पोट शंकास्पद : पुन: परीक्षणका लागि धरान पठाइयो\":\n",
    "        return \"उदयपुरमा थप ८ जनामा कोरोना रिर्पोट शंकास्पद पुन परीक्षणका लागि धरान पठाइयो\"\n",
    "    \n",
    "    elif title == \"११ घन्टापछि खुलेको पृथ्वी राजमार्ग पुनः अवरुद्धः हजारौँ यात्रु अलपत्र\":\n",
    "        return \"११ घन्टापछि खुलेको पृथ्वी राजमार्ग पुन अवरुद्ध\"\n",
    "    \n",
    "    elif title == \"दलाई लामा अरुणाचल भ्रमणः आन्तरिक मामिलामा दखल नदेऊः भारत\":\n",
    "        return \"दलाई लामा को अरुणाचल भ्रमण\"\n",
    "    \n",
    "    elif title == \"काश्मिरमा १३ जना मारिए, भारत भन्छ: आतंकककारी, पाकिस्तान भन्छ: सर्वसाधरण\":\n",
    "        return \"काश्मिरमा १३ जना मारिए, भारत भन्छ आतंकककारी, पाकिस्तान भन्छ सर्वसाधरण\"\n",
    "    \n",
    "    elif title == \"सत्तापक्षीय र मधेसी मोर्चाको बैठक निष्कर्षबिहिनः पुनः छलफल गर्ने\":\n",
    "        return \"सत्तापक्षीय र मधेसी मोर्चाको बैठक निष्कर्षबिहिन, पुन छलफल गर्ने\"\n",
    "    \n",
    "    elif title == \"नेपाल र जापानबीचको मैत्रीपूर्ण फुटबलः नेपालः १ जापानः शून्य (लाइभ)\":\n",
    "        return \"नेपाल र जापानबीचको मैत्रीपूर्ण फुटबल नेपाल १ जापान शून्य\"\n",
    "    \n",
    "def predefined_slicing_ekagaj(title, join=\" \", split=\" : \"):\n",
    "\n",
    "    if title == \"एमाले भन्छ : रास्वपाले हामीलाई सघाउँछ, रास्वपा भन्छ : पुस १० को सहमतिलाई मध्यनजर गरेर निर्णय लिन्छौँ\":\n",
    "        return \"एमाले भन्छ रास्वपाले हामीलाई सघाउँछ, रास्वपा भन्छ पुस १० को सहमतिलाई मध्यनजर गरेर निर्णय लिन्छौँ\"\n",
    "    \n",
    "    elif title == \"काँग्रेस छियाछिया भयो, पुनः जीवन दिनुपर्ने खाँचो छः डा. शशांक\":\n",
    "        return \"काँग्रेस छियाछिया भयो, पुन जीवन दिनुपर्ने खाँचो छ\"\n",
    "    \n",
    "    elif title == \"हामी सरकारबाट हटेपछि 'समृद्ध नेपाल : सुखी नेपाली' भन्ने आँट कसैले गरेनन् : केपी ओली\":\n",
    "        return \"हामी सरकारबाट हटेपछि 'समृद्ध नेपाल सुखी नेपाली' भन्ने आँट कसैले गरेनन्\"\n",
    "    \n",
    "    elif title == \"फुटपाथ व्यवसायी भन्छन् : गरिखान देऊ, महानगर भन्छ : हुँदैन\":\n",
    "        return \"फुटपाथ व्यवसायी भन्छन् गरिखान देऊ महानगर भन्छ हुँदैन\"\n",
    "    \n",
    "def predefined_slicing_nepalikhabar(title, join=\" \", split=\" : \"):\n",
    "    \n",
    "    if title == \"कोरोनाको उत्पत्ति स्थल पत्ता लगाउन अति आवश्यकः डब्लूएचओ, हाम्रो देशमा उत्पन्न भएको होइनः चीन\":\n",
    "        return \"कोरोनाको उत्पत्ति स्थल पत्ता लगाउन अति आवश्यक\"\n",
    "    \n",
    "    elif title == \"कम्पनीले सम्झौता गर्दैमा नेपालमा खोप आउँदैनः मन्त्रालय, कम्पनीबारे थाहै छैनः औषधि व्यवसायी\":\n",
    "        return \"कम्पनीले सम्झौता गर्दैमा नेपालमा खोप आउँदैन\"\n",
    "        \n",
    "    elif title == \"एमसीसी उपाध्यक्ष : तत्काल संसदबाट अनुमोदन गर्नुस्, अर्थमन्त्री : राजनीतिक सहमति खोज्दैछौँ\":\n",
    "        return \"एमसीसी उपाध्यक्ष भन्छन् तत्काल संसदबाट अनुमोदन गर्नुस्\"\n",
    "    \n",
    "    elif title == \"अर्थमन्त्रीले भने : माथिल्लो तामाकोशी बन्द छ, आयोजना प्रमुख भन्छन् : सञ्चालनमै छ\":\n",
    "        return \"अर्थमन्त्रीले भने माथिल्लो तामाकोशी बन्द छ, आयोजना प्रमुख भन्छन् सञ्चालनमै छ\"\n",
    "    \n",
    "    elif title == \"निषेधाज्ञाले शून्यप्रायः घरजग्गा कारोबारः साढे ८ अर्बले घट्यो राजस्व संकलन\":\n",
    "        return \"साढे ८ अर्बले घट्यो राजस्व संकलन\"\n",
    "    \n",
    "    elif title == \"नागरिक उड्डयनमन्त्री भन्छन्ः वायुसेवा निगमले गुमेको बजार पुनः प्राप्त गर्छ\":\n",
    "        return \"नागरिक उड्डयनमन्त्री भन्छन् वायुसेवा निगमले गुमेको बजार पुन प्राप्त गर्छ\"\n",
    "    \n",
    "    elif title == \"डिल्लीबजारमा खुल्यो १२ थरि मःमः रेरष्टुरेन्ट, कोदो, फापर, ग्रिन, चिजको मःमः पाइने\":\n",
    "        return \"डिल्लीबजारमा खुल्यो १२ थरि मम रेरष्टुरेन्ट, कोदो, फापर, ग्रिन, चिजको मम पाइने\"\n",
    "    \n",
    "    elif title == \"सरकार भन्छः अण्डा र मासुमा आत्मनिर्भर भयौँ, तथ्यांकले देखाउँछः आयात राेकिएकाे छैन\":\n",
    "        return \"सरकार भन्छ अण्डा र मासुमा आत्मनिर्भर भयौँ तथ्यांकले देखाउँछ आयात राेकिएकाे छैन\"\n",
    "    \n",
    "def predefined_slicing_ujyaalo(title, join=\" \", split=\" : \"):\n",
    "\n",
    "    if title == \"प्रदेश पाँचको बजेट परिणाममुखी छ : मुख्यमन्त्री पोखरेल, वितरणमुखी भयो : कांग्रेस\":\n",
    "        return \"प्रदेश पाँचको बजेट परिणाममुखी छ\"\n",
    "    \n",
    "    elif title == \"सबल र सक्षम बैंक कायम हुन्छ : नेपाल, साना लगानीकर्ताहरुले कर्जा पाउन नसक्ने अवस्था आउनसक्छ : क्षेत्री\":\n",
    "        return \"सबल र सक्षम बैंक कायम हुन्छ साना लगानीकर्ताहरुले कर्जा पाउन नसक्ने अवस्था आउनसक्छ\"\n",
    "    \n",
    "    elif title == \"आज भाइटीका : उत्तम साइत बिहान ११ : ०२ मिनेटमा\":\n",
    "        return \"आज भाइटीका उत्तम साइत बिहान ११ ०२ मिनेटमा\"\n",
    "    \n",
    "    elif title == \"दाङ : एउटै कारमित्र मृत भेटिएका तीन बालककाे निसास्सिएर ज्यान गएकाे हाे : भिसेरा रिपाेर्ट\":\n",
    "        return \"एउटै कारमित्र मृत भेटिएका तीन बालककाे निसास्सिएर ज्यान गएकाे हाे\"\n",
    "    \n",
    "    elif title == \"३ सय ५० भन्दा बढी कानुन संशाेधन गर्नुपर्छ : विज्ञ, छुट्टै कानुन ल्याउनुपर्छ : समिति सदस्यहरू\":\n",
    "        return \"३ सय ५० भन्दा बढी कानुन संशाेधन गर्नुपर्छ\"\n",
    "    \n",
    "    elif title == \"सात मन्त्रीको पुनः नियुक्ति असंवैधानिक रहेको सर्वोच्चको ठहर, स्वतः पदमुक्त\":\n",
    "        return \"सात मन्त्रीको पुन नियुक्ति असंवैधानिक रहेको सर्वोच्चको ठहर\"\n",
    "    \n",
    "    elif title == \"नेता पोख्रेलको प्रस्तावः ‘दुई अध्यक्षबीच छलफल गरेर मात्रै बैठक डाकाैँ’, प्रचण्डको जवाफः ‘एक्लाएक्लै बैठक बस्नुको अर्थ छैन’\":\n",
    "        return \"नेता पोख्रेलको प्रस्ताव ‘दुई अध्यक्षबीच छलफल गरेर मात्रै बैठक डाकाैँ’\"\n",
    "    \n",
    "    elif title == \"कानुनी सर्वोच्चता अक्षरश: कार्यान्वयन हाेस् भनेर राजीनामा दिएको हुँ : प्याकुरेल\":\n",
    "        return \"कार्यान्वयन हाेस् भनेर राजीनामा दिएको हुँ\"\n",
    "    \n",
    "    elif title == \"एसपीपी सम्झौता अघि बढेको छैन : नेपाली सेना, नेपालकै आग्रहमा स्वीकृत भइसक्यो : अमेरिका\":\n",
    "        return \"एसपीपी सम्झौता अघि बढेको छैन नेपाली सेना, नेपालकै आग्रहमा स्वीकृत भइसक्यो\"\n",
    "\n",
    "def predefined_slicing_ratopati(title, join=\" \", split=\" : \"):\n",
    "    \n",
    "    if title == \"रंगमञ्च चरित्र : दयाहाङ र सिर्जनाको जोडी : ‘कबड्डी कबड्डी’मा ‘ट्रेलर’, ‘...र माइलो’मा ‘सिनेमा’\":\n",
    "        return \"दयाहाङ र सिर्जनाको जोडी\"\n",
    "    \n",
    "    elif title == \"रोकिएन मुद्दाको लहरः ‘कपिल शर्मा कमेडी शो’ विरुद्ध पुनः मुद्दा दर्ता\":\n",
    "        return \"‘कपिल शर्मा कमेडी शो’ विरुद्ध पुन मुद्दा दर्ता\"\n",
    "    \n",
    "    elif title == \"सिरियल टक : ‘उमेरमै बूढो भएर हैरान भइयो’ : सुजित थापा ‘डेभिड’, कलाकार तथा निर्देशक\":\n",
    "        return \"‘उमेरमै बूढो भएर हैरान भइयो’\"\n",
    "        \n",
    "    elif title == \"१८ वर्षे सुहानाको पहिलो फोटोसुटः शाहरुखले भने, ‘छोरीलाई पुनः अँगालोमा बोक्दै छु’\":\n",
    "        return \"१८ वर्षे सुहानाको पहिलो फोटोसुट\"\n",
    "        \n",
    "    elif title == \"नायिकामाथि दुष्कर्मः पुलिस पुगेपछि मिथुनको छोराको विवाह रोकियोः दुलहीको परिवार होटल छोडेर गए\":\n",
    "        return \"पुलिस पुगेपछि मिथुनको छोराको विवाह रोकियो\"\n",
    "        \n",
    "    elif title == \"कपिल शर्माले पुनः रद्द गरे अजय देवगनसँगको सुटिङः यसपटक मामला गम्भीर\":\n",
    "        return \"कपिल शर्माले पुन रद्द गरे अजय देवगनसँगको सुटिङ\"\n",
    "        \n",
    "    elif title == \"ट्वीटरः फिर्ता भएको केही घण्टाभित्रै पुनः सस्पेन्ड भए गायक अभिजित\":\n",
    "        return \"ट्वीटर फिर्ता भएको केही घण्टाभित्रै पुन सस्पेन्ड भए गायक अभिजित\"\n",
    "        \n",
    "    elif title == \"अक्षय कुमार पुनः बने सबैभन्दा धनी बलिउड सेलिब्रिटीः यस वर्ष कति कमाए ?\":\n",
    "        return \"अक्षय कुमार पुन बने सबैभन्दा धनी बलिउड सेलिब्रिटी\"\n",
    "        \n",
    "    elif title == \"‘एभेन्जर्स : एन्ड गेम’ को क्रेज : अनलाइन बुकिङ गर्ने भीडले मल्टिप्लेक्सको सर्भर डाउन\":\n",
    "        return \"‘एभेन्जर्स एन्ड गेम’ को क्रेज अनलाइन बुकिङ गर्ने भीडले मल्टिप्लेक्सको सर्भर डाउन\"\n",
    "        \n",
    "    elif title == \"पुनः सुरु हुँदैछ द कपिल शर्मा शोः टिजर सार्वजनिक, शाहरुख खान पहिलो पाहुना\":\n",
    "        return \"पुन सुरु हुँदैछ द कपिल शर्मा शो\"\n",
    "        \n",
    "    elif title == \"आज पुनः रेसलरसँग लड्नेछिन् राखी सावन्तः भन्छिन्, ‘पछारेको हिसाब बराबर गर्नेछु’\":\n",
    "        return \"आज पुन रेसलरसँग लड्नेछिन् राखी सावन्त\"\n",
    "        \n",
    "    elif title == \"फ्राइडे रिलिज : देशभर ‘ऐना झ्यालको पुतली’ र ‘गोर्खा : बिनिथ द ब्रेभरी’\":\n",
    "        return \"फ्राइडे रिलिज ‘ऐना झ्यालको पुतली’ र ‘गोर्खा बिनिथ द ब्रेभरी’\"\n",
    "        \n",
    "    elif title == \"फ्राइडे रिलिज : ‘स्पाइडर म्यान : नो वे होम’ र ‘पुष्पा’\":\n",
    "        return \"फ्राइडे रिलिज ‘स्पाइडर म्यान नो वे होम’ र ‘पुष्पा’\"\n",
    "        \n",
    "    elif title == \"११ महिनाअघि दिवंगत पितालाई सम्झिएर भावुक भएका थिए वाजिद खानः लेखेका थिए, ‘तपाईंलाई पुनः भेट्ने प्रतिक्षा गरिरहेछु’\":\n",
    "        return \"११ महिनाअघि दिवंगत पितालाई सम्झिएर भावुक भएका थिए वाजिद खान\"\n",
    "        \n",
    "    elif title == \"पुनः सोसल मिडियामा एक्टिभ भइन् जायरा वसीमः बताइन्, किन डिएक्टिभेट गरेकी थिइन् अकाउन्ट ?\":\n",
    "        return \"पुन सोसल मिडियामा एक्टिभ भइन् जायरा वसीम\"\n",
    "        \n",
    "    elif title == \"श्रीमतीका लागि पुनः बाँच्न चाहन्छन् इरफान खानः भन्छन्, ‘उनकै कारण अहिलेसम्म छु’\":\n",
    "        return \"श्रीमतीका लागि पुन बाँच्न चाहन्छन् इरफान खान भन्छन्, ‘उनकै कारण अहिलेसम्म छु’\"\n",
    "        \n",
    "    elif title == \"कोशी प्रदेश : सभामुखलाई राजीनामा गराउनु अमर्यादित खेल : एमाले\":\n",
    "        return \"सभामुखलाई राजीनामा गराउनु अमर्यादित खेल\"\n",
    "    \n",
    "    elif title == \"पुनः समस्यामा घेरिए हाँस्यकलाकार कपिल शर्माः मुद्दा दर्ता\":\n",
    "        return \"पुन समस्यामा घेरिए हाँस्यकलाकार कपिल शर्मा\"\n",
    "        \n",
    "\n",
    "def resolve_colon_in_title(title, predefined_slicing_function):\n",
    "    title_split = title.split(\"ः \")\n",
    "    if len(title_split) == 2:\n",
    "        if title_split[0].split()[-1] == \"पुन\":\n",
    "            return title\n",
    "        if len(title_split[0].split()) >= 4 and len(title_split[1].split()) >= 4:\n",
    "            return \"\"\n",
    "        elif len(title_split[0]) > len(title_split[1]): return title_split[0] + \"ः\"\n",
    "        elif len(title_split[0]) <= len(title_split[1]): return \"ः \".join(title_split)\n",
    "    elif len(title_split) > 2:\n",
    "        res = predefined_slicing_function(title.strip(), join=\"ः \", split=\"ः \")\n",
    "        if res == None:\n",
    "            print(title)\n",
    "        return res\n",
    "                \n",
    "    title_split = title.split(\": \")\n",
    "    if len(title_split) == 2:\n",
    "        if title_split[0].split()[-1] == \"पुन\":\n",
    "            return title\n",
    "        if len(title_split[0].split()) >= 4 and len(title_split[1].split()) >= 4:\n",
    "            return \"\"\n",
    "        elif len(title_split[0]) > len(title_split[1]): return title_split[0]\n",
    "        elif len(title_split[0]) <= len(title_split[1]): return \" \".join(title_split)\n",
    "    elif len(title_split) > 2:\n",
    "        res = predefined_slicing_function(title.strip(), split=\": \")\n",
    "        if res == None:\n",
    "            print(title)\n",
    "        return res\n",
    "    \n",
    "    title_split = title.split(\" : \")\n",
    "    if len(title_split) == 2:\n",
    "        if len(title_split[0].split()) >= 4 and len(title_split[1].split()) >= 4:\n",
    "            return \"\"\n",
    "        elif len(title_split[0]) > len(title_split[1]): return title_split[0]\n",
    "        elif len(title_split[0]) <= len(title_split[1]): return \" \".join(title_split)\n",
    "    elif len(title_split) > 2:\n",
    "        res = predefined_slicing_function(title.strip(), split=\" : \")\n",
    "        if res == None:\n",
    "            print(title)\n",
    "        return res\n",
    "        \n",
    "    return title    "
   ]
  },
  {
   "cell_type": "code",
   "execution_count": 5,
   "metadata": {},
   "outputs": [],
   "source": [
    "ratopati[\"title_colon_handled\"] = ratopati[\"title\"].apply(lambda x: resolve_colon_in_title(x, predefined_slicing_ratopati))"
   ]
  },
  {
   "cell_type": "code",
   "execution_count": 6,
   "metadata": {},
   "outputs": [],
   "source": [
    "ujyaalo[\"title_colon_handled\"] = ujyaalo[\"title\"].apply(lambda x: resolve_colon_in_title(x, predefined_slicing_ujyaalo))"
   ]
  },
  {
   "cell_type": "code",
   "execution_count": 7,
   "metadata": {},
   "outputs": [],
   "source": [
    "techpana[\"title_colon_handled\"] = techpana[\"title\"].apply(lambda x: resolve_colon_in_title(str(x), resolve_slicing))"
   ]
  },
  {
   "cell_type": "code",
   "execution_count": 8,
   "metadata": {},
   "outputs": [],
   "source": [
    "nepalikhabar[\"title_colon_handled\"] = nepalikhabar[\"title\"].apply(lambda x: resolve_colon_in_title(str(x), predefined_slicing_nepalikhabar))"
   ]
  },
  {
   "cell_type": "code",
   "execution_count": 9,
   "metadata": {},
   "outputs": [],
   "source": [
    "ekagaj[\"title_colon_handled\"] = ekagaj[\"title\"].apply(lambda x: resolve_colon_in_title(str(x), predefined_slicing_ekagaj))"
   ]
  },
  {
   "cell_type": "code",
   "execution_count": 10,
   "metadata": {},
   "outputs": [],
   "source": [
    "annapurna[\"title_colon_handled\"] = annapurna[\"title\"].apply(lambda x: resolve_colon_in_title(str(x), predefined_slicing_annapurna))"
   ]
  },
  {
   "cell_type": "code",
   "execution_count": 11,
   "metadata": {},
   "outputs": [],
   "source": [
    "dcnepal[\"title_colon_handled\"] = dcnepal[\"title\"].apply(lambda x: resolve_colon_in_title(str(x), predefined_slicing_dcnepal))"
   ]
  },
  {
   "cell_type": "code",
   "execution_count": 12,
   "metadata": {},
   "outputs": [],
   "source": [
    "ekantipur[\"title_colon_handled\"] = ekantipur[\"title\"].apply(lambda x: resolve_colon_in_title(str(x), predefined_slicing_ekantipur))"
   ]
  },
  {
   "cell_type": "code",
   "execution_count": 13,
   "metadata": {},
   "outputs": [],
   "source": [
    "gorkhapatra[\"title_colon_handled\"] = gorkhapatra[\"title\"].apply(lambda x: resolve_colon_in_title(str(x), predefined_slicing_gorkhapatra))"
   ]
  },
  {
   "cell_type": "code",
   "execution_count": 14,
   "metadata": {},
   "outputs": [],
   "source": [
    "imagekhabar[\"title_colon_handled\"] = imagekhabar[\"title\"].apply(lambda x: resolve_colon_in_title(str(x), predefined_slicing_imagekhabar))"
   ]
  },
  {
   "cell_type": "code",
   "execution_count": 15,
   "metadata": {},
   "outputs": [],
   "source": [
    "nagarik[\"title_colon_handled\"] = nagarik[\"title\"].apply(lambda x: resolve_colon_in_title(str(x), predefined_slicing_nagarik))"
   ]
  },
  {
   "cell_type": "markdown",
   "metadata": {},
   "source": [
    "1. Ratopati"
   ]
  },
  {
   "cell_type": "code",
   "execution_count": 16,
   "metadata": {},
   "outputs": [
    {
     "data": {
      "text/html": [
       "<div>\n",
       "<style scoped>\n",
       "    .dataframe tbody tr th:only-of-type {\n",
       "        vertical-align: middle;\n",
       "    }\n",
       "\n",
       "    .dataframe tbody tr th {\n",
       "        vertical-align: top;\n",
       "    }\n",
       "\n",
       "    .dataframe thead th {\n",
       "        text-align: right;\n",
       "    }\n",
       "</style>\n",
       "<table border=\"1\" class=\"dataframe\">\n",
       "  <thead>\n",
       "    <tr style=\"text-align: right;\">\n",
       "      <th></th>\n",
       "      <th>title</th>\n",
       "      <th>news</th>\n",
       "      <th>category</th>\n",
       "      <th>published_date</th>\n",
       "      <th>title_colon_handled</th>\n",
       "    </tr>\n",
       "  </thead>\n",
       "  <tbody>\n",
       "    <tr>\n",
       "      <th>0</th>\n",
       "      <td>निखिल उप्रेतीको भैरव फिल्मले अमेरिकामा रहेका न...</td>\n",
       "      <td>सनफ्रान्सिस्को-अमेरिकाका नेपालीको प्रतिक्रिया ...</td>\n",
       "      <td>मनोरञ्जन</td>\n",
       "      <td>विहीबार, २८ माघ २०७२, ११ : ०५</td>\n",
       "      <td>निखिल उप्रेतीको भैरव फिल्मले अमेरिकामा रहेका न...</td>\n",
       "    </tr>\n",
       "    <tr>\n",
       "      <th>1</th>\n",
       "      <td>सुशील कोइरालाको निधनपछि चौरासी बाले खोले यस्ता...</td>\n",
       "      <td>झण्डै ४ बर्षअघि सुशील कोइरालाले प्रधानमन्त्रीक...</td>\n",
       "      <td>मनोरञ्जन</td>\n",
       "      <td>बुधबार, २७ माघ २०७२, १५ : २५</td>\n",
       "      <td>सुशील कोइरालाको निधनपछि चौरासी बाले खोले यस्ता...</td>\n",
       "    </tr>\n",
       "    <tr>\n",
       "      <th>2</th>\n",
       "      <td>लिटल प्रिन्स एण्ड प्रिन्सेसको ग्रान्ड फिनाले</td>\n",
       "      <td>सुरुङ– ग्ल्यामरस नेपालले सुरुङ्गामा लिटल प्रिन...</td>\n",
       "      <td>मनोरञ्जन</td>\n",
       "      <td>बुधबार, २७ माघ २०७२, १० : ५४</td>\n",
       "      <td>लिटल प्रिन्स एण्ड प्रिन्सेसको ग्रान्ड फिनाले</td>\n",
       "    </tr>\n",
       "    <tr>\n",
       "      <th>3</th>\n",
       "      <td>अमेरिकामा सबैभन्दा धेरै कमाउने सिईओ बने पिचाई,...</td>\n",
       "      <td>अमेरिका-गूगलका सिईओ सुन्दर पिचाई अमेरिकामा सबै...</td>\n",
       "      <td>मनोरञ्जन</td>\n",
       "      <td>मंगलबार, २६ माघ २०७२, २० : ०३</td>\n",
       "      <td>अमेरिकामा सबैभन्दा धेरै कमाउने सिईओ बने पिचाई,...</td>\n",
       "    </tr>\n",
       "    <tr>\n",
       "      <th>4</th>\n",
       "      <td>ज्योती मगरको धमाका, ‘दोहोरीमा र्याप’</td>\n",
       "      <td>काठमाडौं–‘दोहोरीमा र्याप’ बोलको गीतको भिडियो स...</td>\n",
       "      <td>मनोरञ्जन</td>\n",
       "      <td>सोमबार, २५ माघ २०७२, १६ : ३८</td>\n",
       "      <td>ज्योती मगरको धमाका, ‘दोहोरीमा र्याप’</td>\n",
       "    </tr>\n",
       "  </tbody>\n",
       "</table>\n",
       "</div>"
      ],
      "text/plain": [
       "                                               title  \\\n",
       "0  निखिल उप्रेतीको भैरव फिल्मले अमेरिकामा रहेका न...   \n",
       "1  सुशील कोइरालाको निधनपछि चौरासी बाले खोले यस्ता...   \n",
       "2       लिटल प्रिन्स एण्ड प्रिन्सेसको ग्रान्ड फिनाले   \n",
       "3  अमेरिकामा सबैभन्दा धेरै कमाउने सिईओ बने पिचाई,...   \n",
       "4              ज्योती मगरको धमाका, ‘दोहोरीमा र्याप’    \n",
       "\n",
       "                                                news  category  \\\n",
       "0  सनफ्रान्सिस्को-अमेरिकाका नेपालीको प्रतिक्रिया ...  मनोरञ्जन   \n",
       "1  झण्डै ४ बर्षअघि सुशील कोइरालाले प्रधानमन्त्रीक...  मनोरञ्जन   \n",
       "2  सुरुङ– ग्ल्यामरस नेपालले सुरुङ्गामा लिटल प्रिन...  मनोरञ्जन   \n",
       "3  अमेरिका-गूगलका सिईओ सुन्दर पिचाई अमेरिकामा सबै...  मनोरञ्जन   \n",
       "4  काठमाडौं–‘दोहोरीमा र्याप’ बोलको गीतको भिडियो स...  मनोरञ्जन   \n",
       "\n",
       "                  published_date  \\\n",
       "0  विहीबार, २८ माघ २०७२, ११ : ०५   \n",
       "1   बुधबार, २७ माघ २०७२, १५ : २५   \n",
       "2   बुधबार, २७ माघ २०७२, १० : ५४   \n",
       "3  मंगलबार, २६ माघ २०७२, २० : ०३   \n",
       "4   सोमबार, २५ माघ २०७२, १६ : ३८   \n",
       "\n",
       "                                 title_colon_handled  \n",
       "0  निखिल उप्रेतीको भैरव फिल्मले अमेरिकामा रहेका न...  \n",
       "1  सुशील कोइरालाको निधनपछि चौरासी बाले खोले यस्ता...  \n",
       "2       लिटल प्रिन्स एण्ड प्रिन्सेसको ग्रान्ड फिनाले  \n",
       "3  अमेरिकामा सबैभन्दा धेरै कमाउने सिईओ बने पिचाई,...  \n",
       "4              ज्योती मगरको धमाका, ‘दोहोरीमा र्याप’   "
      ]
     },
     "execution_count": 16,
     "metadata": {},
     "output_type": "execute_result"
    }
   ],
   "source": [
    "ratopati.head()"
   ]
  },
  {
   "cell_type": "markdown",
   "metadata": {},
   "source": [
    "Remove text inside of paranthesis"
   ]
  },
  {
   "cell_type": "code",
   "execution_count": 17,
   "metadata": {},
   "outputs": [],
   "source": [
    "def remove_text_inside_paranthesis(text):\n",
    "    if type(text) == float:\n",
    "        return text\n",
    "    return re.sub(r'\\([^)]*\\)', '', text)"
   ]
  },
  {
   "cell_type": "code",
   "execution_count": 18,
   "metadata": {},
   "outputs": [],
   "source": [
    "# ratopati[\"news_no_paranthesis\"] = ratopati[\"news\"].apply(remove_text_inside_paranthesis)"
   ]
  },
  {
   "cell_type": "code",
   "execution_count": 19,
   "metadata": {},
   "outputs": [
    {
     "data": {
      "text/plain": [
       "'hi name is'"
      ]
     },
     "execution_count": 19,
     "metadata": {},
     "output_type": "execute_result"
    }
   ],
   "source": [
    "remove_text_inside_paranthesis(\"hi (my)name (is)is\")"
   ]
  },
  {
   "cell_type": "code",
   "execution_count": 20,
   "metadata": {},
   "outputs": [],
   "source": [
    "def remove_first_location_info(news):\n",
    "    '''\n",
    "    Takes a news article and removes the location information at the start\n",
    "    '''\n",
    "    # If the location is seperated by – \n",
    "    news_split = news.split(\"–\")\n",
    "    check_length = len(news_split[0].strip().split())\n",
    "    if check_length == 2 or check_length == 1:\n",
    "        # Only remove if the length of the possible location info contains 1 or 2 word\n",
    "        news_split.pop(0)\n",
    "        return \" \".join(news_split)\n",
    "    else:\n",
    "        # If the location is seperated by । (halanta)  \n",
    "        news_split = news.split(\"।\")\n",
    "        check_length = len(news_split[0].strip().split())\n",
    "        if check_length == 2 or check_length == 1:\n",
    "            # Only remove if the length of the possible location info contains 1 or 2 word\n",
    "            news_split.pop(0)\n",
    "            return \" । \".join(news_split)\n",
    "        else:\n",
    "            # If the location is seperated by small dash -  \n",
    "            news_split = news.split(\"-\")\n",
    "            check_length = len(news_split[0].strip().split())\n",
    "            if check_length == 2 or check_length == 1:\n",
    "                # Only remove if the length of the possible location info contains 1 or 2 word\n",
    "                news_split.pop(0)\n",
    "                return \" \".join(news_split)\n",
    "            return news"
   ]
  },
  {
   "cell_type": "code",
   "execution_count": 21,
   "metadata": {},
   "outputs": [],
   "source": [
    "ratopati[\"news_no_location\"] = ratopati[\"news\"].apply(remove_first_location_info)"
   ]
  },
  {
   "cell_type": "code",
   "execution_count": 22,
   "metadata": {},
   "outputs": [
    {
     "data": {
      "text/plain": [
       "53000    बार्सिलोनालाई हराउँदै एथ्लेटिको म्याड्रिडले स्...\n",
       "53001    भारतको महाराष्ट्रमा आगामी डिसेम्बर ४ देखि ७ सम...\n",
       "53002    कराते खेलका निर्णायक तथा प्रशिक्षक प्रकाशकुमार...\n",
       "53003    नेपाल क्रिकेट सङ्घ (क्यान) ले बन्द प्रशिक्षणका...\n",
       "53004    काठमाडौं । नेपाल क्रिकेट सङ्घ (क्यान) ले नेपाल...\n",
       "53005    नेपाली क्रिकेटका ‘ग्लोबल आइकन’ सन्दीप लामिछाने...\n",
       "53006    आफ्नो कारण एन्टोनी ग्रिजमान बार्सिलोनाको जीवनम...\n",
       "53007    रोमेलु लुकाकुको दुई गोलको मद्दतले डेनमार्कलाई ...\n",
       "53008    बङ्गलादेशमा रहेका नेपाली राष्ट्रिय फुटबल टोलीक...\n",
       "53009    लुइस सुवरेजलाई कोरोनाभाइरसको संक्रमण देखिएको छ...\n",
       "Name: news, dtype: object"
      ]
     },
     "execution_count": 22,
     "metadata": {},
     "output_type": "execute_result"
    }
   ],
   "source": [
    "ratopati[\"news\"][53000:53010]"
   ]
  },
  {
   "cell_type": "code",
   "execution_count": 23,
   "metadata": {},
   "outputs": [],
   "source": [
    "# ratopati[\"news_no_paranthesis\"][53000:53010]"
   ]
  },
  {
   "cell_type": "code",
   "execution_count": 24,
   "metadata": {},
   "outputs": [
    {
     "data": {
      "text/plain": [
       "53000    बार्सिलोनालाई हराउँदै एथ्लेटिको म्याड्रिडले स्...\n",
       "53001    भारतको महाराष्ट्रमा आगामी डिसेम्बर ४ देखि ७ सम...\n",
       "53002    कराते खेलका निर्णायक तथा प्रशिक्षक प्रकाशकुमार...\n",
       "53003    नेपाल क्रिकेट सङ्घ (क्यान) ले बन्द प्रशिक्षणका...\n",
       "53004     नेपाल क्रिकेट सङ्घ (क्यान) ले नेपाल प्रिमियर ...\n",
       "53005    नेपाली क्रिकेटका ‘ग्लोबल आइकन’ सन्दीप लामिछाने...\n",
       "53006    आफ्नो कारण एन्टोनी ग्रिजमान बार्सिलोनाको जीवनम...\n",
       "53007    रोमेलु लुकाकुको दुई गोलको मद्दतले डेनमार्कलाई ...\n",
       "53008    बङ्गलादेशमा रहेका नेपाली राष्ट्रिय फुटबल टोलीक...\n",
       "53009    लुइस सुवरेजलाई कोरोनाभाइरसको संक्रमण देखिएको छ...\n",
       "Name: news_no_location, dtype: object"
      ]
     },
     "execution_count": 24,
     "metadata": {},
     "output_type": "execute_result"
    }
   ],
   "source": [
    "ratopati[\"news_no_location\"][53000:53010]"
   ]
  },
  {
   "cell_type": "code",
   "execution_count": 1,
   "metadata": {},
   "outputs": [],
   "source": [
    "import string\n",
    "from nltk.corpus import stopwords"
   ]
  },
  {
   "cell_type": "code",
   "execution_count": 2,
   "metadata": {},
   "outputs": [],
   "source": [
    "nep_stopwrods = stopwords.words(\"nepali\")"
   ]
  },
  {
   "cell_type": "code",
   "execution_count": 7,
   "metadata": {},
   "outputs": [
    {
     "data": {
      "text/plain": [
       "['छ',\n",
       " 'र',\n",
       " 'पनि',\n",
       " 'छन्',\n",
       " 'लागि',\n",
       " 'भएको',\n",
       " 'गरेको',\n",
       " 'भने',\n",
       " 'गर्न',\n",
       " 'गर्ने',\n",
       " 'हो',\n",
       " 'तथा',\n",
       " 'यो',\n",
       " 'रहेको',\n",
       " 'उनले',\n",
       " 'थियो',\n",
       " 'हुने',\n",
       " 'गरेका',\n",
       " 'थिए',\n",
       " 'गर्दै',\n",
       " 'तर',\n",
       " 'नै',\n",
       " 'को',\n",
       " 'मा',\n",
       " 'हुन्',\n",
       " 'भन्ने',\n",
       " 'हुन',\n",
       " 'गरी',\n",
       " 'त',\n",
       " 'हुन्छ',\n",
       " 'अब',\n",
       " 'के',\n",
       " 'रहेका',\n",
       " 'गरेर',\n",
       " 'छैन',\n",
       " 'दिए',\n",
       " 'भए',\n",
       " 'यस',\n",
       " 'ले',\n",
       " 'गर्नु',\n",
       " 'औं',\n",
       " 'सो',\n",
       " 'त्यो',\n",
       " 'कि',\n",
       " 'जुन',\n",
       " 'यी',\n",
       " 'का',\n",
       " 'गरि',\n",
       " 'ती',\n",
       " 'न',\n",
       " 'छु',\n",
       " 'छौं',\n",
       " 'लाई',\n",
       " 'नि',\n",
       " 'उप',\n",
       " 'अक्सर',\n",
       " 'आदि',\n",
       " 'कसरी',\n",
       " 'क्रमशः',\n",
       " 'चाले',\n",
       " 'अगाडी',\n",
       " 'अझै',\n",
       " 'अनुसार',\n",
       " 'अन्तर्गत',\n",
       " 'अन्य',\n",
       " 'अन्यत्र',\n",
       " 'अन्यथा',\n",
       " 'अरु',\n",
       " 'अरुलाई',\n",
       " 'अर्को',\n",
       " 'अर्थात',\n",
       " 'अर्थात्',\n",
       " 'अलग',\n",
       " 'आए',\n",
       " 'आजको',\n",
       " 'ओठ',\n",
       " 'आत्म',\n",
       " 'आफू',\n",
       " 'आफूलाई',\n",
       " 'आफ्नै',\n",
       " 'आफ्नो',\n",
       " 'आयो',\n",
       " 'उदाहरण',\n",
       " 'उनको',\n",
       " 'उहालाई',\n",
       " 'एउटै',\n",
       " 'एक',\n",
       " 'एकदम',\n",
       " 'कतै',\n",
       " 'कम से कम',\n",
       " 'कसै',\n",
       " 'कसैले',\n",
       " 'कहाँबाट',\n",
       " 'कहिलेकाहीं',\n",
       " 'का',\n",
       " 'किन',\n",
       " 'किनभने',\n",
       " 'कुनै',\n",
       " 'कुरा',\n",
       " 'कृपया',\n",
       " 'केही',\n",
       " 'कोही',\n",
       " 'गए',\n",
       " 'गरौं',\n",
       " 'गर्छ',\n",
       " 'गर्छु',\n",
       " 'गर्नुपर्छ',\n",
       " 'गयौ',\n",
       " 'गैर',\n",
       " 'चार',\n",
       " 'चाहनुहुन्छ',\n",
       " 'चाहन्छु',\n",
       " 'चाहिए',\n",
       " 'छू',\n",
       " 'जताततै',\n",
       " 'जब',\n",
       " 'जबकि',\n",
       " 'जसको',\n",
       " 'जसबाट',\n",
       " 'जसमा',\n",
       " 'जसलाई',\n",
       " 'जसले',\n",
       " 'जस्तै',\n",
       " 'जस्तो',\n",
       " 'जस्तोसुकै',\n",
       " 'जहाँ',\n",
       " 'जान',\n",
       " 'जाहिर',\n",
       " 'जे',\n",
       " 'जो',\n",
       " 'ठीक',\n",
       " 'तत्काल',\n",
       " 'तदनुसार',\n",
       " 'तपाईको',\n",
       " 'तपाई',\n",
       " 'पर्याप्त',\n",
       " 'पहिले',\n",
       " 'पहिलो',\n",
       " 'पहिल्यै',\n",
       " 'पाँच',\n",
       " 'पाँचौं',\n",
       " 'तल',\n",
       " 'तापनी',\n",
       " 'तिनी',\n",
       " 'तिनीहरू',\n",
       " 'तिनीहरुको',\n",
       " 'तिनिहरुलाई',\n",
       " 'तिमी',\n",
       " 'तिर',\n",
       " 'तीन',\n",
       " 'तुरुन्तै',\n",
       " 'तेस्रो',\n",
       " 'तेस्कारण',\n",
       " 'पूर्व',\n",
       " 'प्रति',\n",
       " 'प्रतेक',\n",
       " 'प्लस',\n",
       " 'फेरी',\n",
       " 'बने',\n",
       " 'त्सपछि',\n",
       " 'त्सैले',\n",
       " 'त्यहाँ',\n",
       " 'थिएन',\n",
       " 'दिनुभएको',\n",
       " 'दिनुहुन्छ',\n",
       " 'दुई',\n",
       " 'देखि',\n",
       " 'बरु',\n",
       " 'बारे',\n",
       " 'बाहिर',\n",
       " 'देखिन्छ',\n",
       " 'देखियो',\n",
       " 'देखे',\n",
       " 'देखेको',\n",
       " 'देखेर',\n",
       " 'दोस्रो',\n",
       " 'धेरै',\n",
       " 'नजिकै',\n",
       " 'नत्र',\n",
       " 'नयाँ',\n",
       " 'निम्ति',\n",
       " 'बाहेक',\n",
       " 'बीच',\n",
       " 'बीचमा',\n",
       " 'भन',\n",
       " 'निम्न',\n",
       " 'निम्नानुसार',\n",
       " 'निर्दिष्ट',\n",
       " 'नौ',\n",
       " 'पक्का',\n",
       " 'पक्कै',\n",
       " 'पछि',\n",
       " 'पछिल्लो',\n",
       " 'पटक',\n",
       " 'पर्छ',\n",
       " 'पर्थ्यो',\n",
       " 'भन्छन्',\n",
       " 'भन्',\n",
       " 'भन्छु',\n",
       " 'भन्दा',\n",
       " 'भन्नुभयो',\n",
       " 'भर',\n",
       " 'भित्र',\n",
       " 'भित्री',\n",
       " 'म',\n",
       " 'मलाई',\n",
       " 'मात्र',\n",
       " 'माथि',\n",
       " 'मुख्य',\n",
       " 'मेरो',\n",
       " 'यति',\n",
       " 'यथोचित',\n",
       " 'यदि',\n",
       " 'यद्यपि',\n",
       " 'यसको',\n",
       " 'यसपछि',\n",
       " 'यसबाहेक',\n",
       " 'यसरी',\n",
       " 'यसो',\n",
       " 'यस्तो',\n",
       " 'यहाँ',\n",
       " 'यहाँसम्म',\n",
       " 'या',\n",
       " 'रही',\n",
       " 'राखे',\n",
       " 'राख्छ',\n",
       " 'राम्रो',\n",
       " 'रूप',\n",
       " 'लगभग',\n",
       " 'वरीपरी',\n",
       " 'वास्तवमा',\n",
       " 'बिरुद्ध',\n",
       " 'बिशेष',\n",
       " 'सायद',\n",
       " 'शायद',\n",
       " 'संग',\n",
       " 'संगै',\n",
       " 'सक्छ',\n",
       " 'सट्टा',\n",
       " 'सधै',\n",
       " 'सबै',\n",
       " 'सबैलाई',\n",
       " 'समय',\n",
       " 'सम्भव',\n",
       " 'सम्म',\n",
       " 'सही',\n",
       " 'साँच्चै',\n",
       " 'सात',\n",
       " 'साथ',\n",
       " 'साथै',\n",
       " 'सारा',\n",
       " 'सोही',\n",
       " 'स्पष्ट',\n",
       " 'हरे',\n",
       " 'हरेक']"
      ]
     },
     "execution_count": 7,
     "metadata": {},
     "output_type": "execute_result"
    }
   ],
   "source": [
    "nep_stopwrods"
   ]
  },
  {
   "cell_type": "code",
   "execution_count": 3,
   "metadata": {},
   "outputs": [],
   "source": [
    "def remove_emojis_english_and_numbers(data):\n",
    "    '''\n",
    "    Removes emojis, non-nepali texts and numbers from the given text\n",
    "    '''\n",
    "    # Removes emoji from given data\n",
    "    emoj = re.compile(\"[\"\n",
    "        u\"\\U0001F600-\\U0001F64F\"  # emoticons\n",
    "        u\"\\U0001F300-\\U0001F5FF\"  # symbols & pictographs\n",
    "        u\"\\U0001F680-\\U0001F6FF\"  # transport & map symbols\n",
    "        u\"\\U0001F1E0-\\U0001F1FF\"  # flags (iOS)\n",
    "        u\"\\U00002500-\\U00002BEF\"  # chinese char\n",
    "        u\"\\U00002702-\\U000027B0\"\n",
    "        u\"\\U00002702-\\U000027B0\"\n",
    "        u\"\\U000024C2-\\U0001F251\"\n",
    "        u\"\\U0001f926-\\U0001f937\"\n",
    "        u\"\\U00010000-\\U0010ffff\"\n",
    "        u\"\\u2640-\\u2642\" \n",
    "        u\"\\u2600-\\u2B55\"\n",
    "        u\"\\u200d\"\n",
    "        u\"\\u23cf\"\n",
    "        u\"\\u23e9\"\n",
    "        u\"\\u231a\"\n",
    "        u\"\\ufe0f\"  # dingbats\n",
    "        u\"\\u3030\"\n",
    "                      \"]+\", re.UNICODE)\n",
    "    res = re.sub(emoj, '', data)\n",
    "    res = re.sub('[0-9]+', '', res)\n",
    "    return re.sub('[a-zA-Z]', '', res)"
   ]
  },
  {
   "cell_type": "code",
   "execution_count": 6,
   "metadata": {},
   "outputs": [
    {
     "name": "stdout",
     "output_type": "stream",
     "text": [
      "विप्लवको क्रान्ति ! खसी नदिएपछि हत्या गरेका थिए शिक्षक श्रेष्ठलाई\n"
     ]
    },
    {
     "data": {
      "text/plain": [
       "'विप्लवको क्रान्ति खसी नदिएपछि हत्या शिक्षक श्रेष्ठलाई'"
      ]
     },
     "execution_count": 6,
     "metadata": {},
     "output_type": "execute_result"
    }
   ],
   "source": [
    "def preprocess_text(data, is_title=False):\n",
    "    if type(data) == float:\n",
    "        return data\n",
    "    data = data.replace(\"-\", \" \").replace(\"—\", \" \").replace(\"‘\", \" \").replace(\"’\", \" \").replace(\"।\", \" \").replace(\"–\", \" \").replace(\"“\", \" \").replace(\"”\", \" \") .replace(\"\\n\", \" \").replace(\"–\", \" \").replace(\"ः\", \"\").replace(\":\", \"\").replace(\"ः \", \" \").replace(\": \", \" \")\n",
    "    no_extra_spaces = \" \".join(data.split())\n",
    "    no_emoji_english_numbers = remove_emojis_english_and_numbers(no_extra_spaces)\n",
    "    no_punc = \"\".join([char for char in no_emoji_english_numbers if char not in (string.punctuation)])\n",
    "    extra = \" \".join(no_punc.split())\n",
    "    # Remove stopwords from news only\n",
    "    if not is_title:\n",
    "        no_stopwords = [word for word in extra.split() if word.strip() not in nep_stopwrods]\n",
    "        return \" \".join(no_stopwords)\n",
    "    else:\n",
    "        return extra\n",
    "print(\"विप्लवको क्रान्ति ! खसी नदिएपछि हत्या गरेका थिए शिक्षक श्रेष्ठलाई\")\n",
    "preprocess_text(\"विप्लवको क्रान्ति ! खसी नदिएपछि हत्या गरेका थिए शिक्षक श्रेष्ठलाई\")\n",
    "# print(ratopati[\"title\"][4345])\n",
    "# preprocess_text(ratopati[\"title\"][4345], True)"
   ]
  },
  {
   "cell_type": "code",
   "execution_count": 29,
   "metadata": {},
   "outputs": [],
   "source": [
    "# ratopati[\"news_cleaned\"] = ratopati[\"news_no_location\"].apply(preprocess_text)"
   ]
  },
  {
   "cell_type": "code",
   "execution_count": 30,
   "metadata": {},
   "outputs": [],
   "source": [
    "# ratopati[\"news_cleaned\"]"
   ]
  },
  {
   "cell_type": "code",
   "execution_count": 31,
   "metadata": {},
   "outputs": [
    {
     "name": "stdout",
     "output_type": "stream",
     "text": [
      "<class 'pandas.core.frame.DataFrame'>\n",
      "RangeIndex: 56680 entries, 0 to 56679\n",
      "Data columns (total 6 columns):\n",
      " #   Column               Non-Null Count  Dtype \n",
      "---  ------               --------------  ----- \n",
      " 0   title                56680 non-null  object\n",
      " 1   news                 56680 non-null  object\n",
      " 2   category             56680 non-null  object\n",
      " 3   published_date       56680 non-null  object\n",
      " 4   title_colon_handled  56680 non-null  object\n",
      " 5   news_no_location     56680 non-null  object\n",
      "dtypes: object(6)\n",
      "memory usage: 2.6+ MB\n"
     ]
    }
   ],
   "source": [
    "ratopati.info()"
   ]
  },
  {
   "cell_type": "markdown",
   "metadata": {},
   "source": [
    "Repeat same for titles except for location removal"
   ]
  },
  {
   "cell_type": "code",
   "execution_count": 32,
   "metadata": {},
   "outputs": [],
   "source": [
    "# ratopati[\"title_no_paranthesis\"] = ratopati[\"title\"].apply(remove_text_inside_paranthesis)"
   ]
  },
  {
   "cell_type": "code",
   "execution_count": 33,
   "metadata": {},
   "outputs": [],
   "source": [
    "# ratopati[\"title_cleaned\"] = ratopati[\"title_no_paranthesis\"].apply(lambda x: preprocess_text(x, True))"
   ]
  },
  {
   "cell_type": "code",
   "execution_count": 34,
   "metadata": {},
   "outputs": [],
   "source": [
    "# ratopati[\"title_cleaned\"][4905]"
   ]
  },
  {
   "cell_type": "code",
   "execution_count": 35,
   "metadata": {},
   "outputs": [],
   "source": [
    "# ratopati[\"title\"] = ratopati[\"title_cleaned\"].apply(lambda x: x)\n",
    "# ratopati[\"news\"] = ratopati[\"news_cleaned\"].apply(lambda x: x)"
   ]
  },
  {
   "cell_type": "code",
   "execution_count": 36,
   "metadata": {},
   "outputs": [],
   "source": [
    "# ratopati.to_csv('../news_clean/ratopati_cleaned.csv', columns=[\"title\", \"news\", \"category\"], index=False)"
   ]
  },
  {
   "cell_type": "markdown",
   "metadata": {},
   "source": [
    "Remove the location info from all news articles seperatedly since they may be in different form"
   ]
  },
  {
   "cell_type": "markdown",
   "metadata": {},
   "source": [
    "2. Ujjyalo"
   ]
  },
  {
   "cell_type": "code",
   "execution_count": 37,
   "metadata": {},
   "outputs": [],
   "source": [
    "def remove_first_location_info_ujyaalo(news):\n",
    "    '''\n",
    "    Takes a news article and removes the location information at the start\n",
    "    '''\n",
    "    # If the location is seperated by – \n",
    "    news_split = news.split(\"–\")\n",
    "    check_length = len(news_split[0].strip().split())\n",
    "    if check_length == 2 or check_length == 1:\n",
    "        # Only remove if the length of the possible location info contains 1 or 2 word\n",
    "        news_split.pop(0)\n",
    "        return \" \".join(news_split)\n",
    "    else:\n",
    "        # If the location is seperated by small dash -  \n",
    "        news_split = news.split(\"-\")\n",
    "        check_length = len(news_split[0].strip().split())\n",
    "        if check_length == 2 or check_length == 1:\n",
    "            # Only remove if the length of the possible location info contains 1 or 2 word\n",
    "            news_split.pop(0)\n",
    "            return \" \".join(news_split)\n",
    "        return news\n",
    "ujyaalo[\"news_no_location\"] = ujyaalo[\"news\"].apply(remove_first_location_info_ujyaalo)"
   ]
  },
  {
   "cell_type": "code",
   "execution_count": 38,
   "metadata": {},
   "outputs": [
    {
     "data": {
      "text/plain": [
       "23884"
      ]
     },
     "execution_count": 38,
     "metadata": {},
     "output_type": "execute_result"
    }
   ],
   "source": [
    "len(ujyaalo[\"news\"])"
   ]
  },
  {
   "cell_type": "code",
   "execution_count": 39,
   "metadata": {},
   "outputs": [
    {
     "data": {
      "text/plain": [
       "22000    काठमाडौं - नेपाल कम्युनिष्ट पार्टी (नेकपा) का ...\n",
       "22001    काठमाण्डौ - कोरोना सङ्क्रमणको परीक्षणका लागि स...\n",
       "22002    काठमाण्डौ - आउँदो आर्थिक वर्षको लागि सरकारको न...\n",
       "22003    काठमाण्डौ - नेपालमा कोरोना भाइरसको सङ्क्रमण बढ...\n",
       "22004    काठमाण्डौ - सत्तारुढ नेपाल कम्युनिस्ट पार्टी (...\n",
       "22005    काठमाण्डौ - नेपाली कांग्रेसले कोरोना संक्रमणपछ...\n",
       "22006    काठमाण्डौ – नेपाल कम्युनिस्ट पार्टी (नेकपा) को...\n",
       "22007    काठमाण्डौ - गृहमन्त्री रामबहादुर थापाले लकडाउन...\n",
       "22008    काठमाण्डौ - संघीय संसदका महासचिव डा.भरतराज गौत...\n",
       "22009    काठमाण्डाै – कोरोना रोकथाम तथा नियन्त्रण उच्चस...\n",
       "Name: news, dtype: object"
      ]
     },
     "execution_count": 39,
     "metadata": {},
     "output_type": "execute_result"
    }
   ],
   "source": [
    "ujyaalo[\"news\"][22000:22010]"
   ]
  },
  {
   "cell_type": "code",
   "execution_count": 40,
   "metadata": {},
   "outputs": [
    {
     "data": {
      "text/plain": [
       "22000     नेपाल कम्युनिष्ट पार्टी (नेकपा) का २० जना स्थ...\n",
       "22001     कोरोना सङ्क्रमणको परीक्षणका लागि संघीय संसद अ...\n",
       "22002     आउँदो आर्थिक वर्षको लागि सरकारको नीति तथा कार...\n",
       "22003     नेपालमा कोरोना भाइरसको सङ्क्रमण बढेसँगै सबै क...\n",
       "22004     सत्तारुढ नेपाल कम्युनिस्ट पार्टी (नेकपा) भित्...\n",
       "22005     नेपाली कांग्रेसले कोरोना संक्रमणपछिको जटिल अव...\n",
       "22006     नेपाल कम्युनिस्ट पार्टी (नेकपा) को सचिवालय बै...\n",
       "22007     गृहमन्त्री रामबहादुर थापाले लकडाउन जारी रहे ज...\n",
       "22008     संघीय संसदका महासचिव डा.भरतराज गौतमले पद तथा ...\n",
       "22009     कोरोना रोकथाम तथा नियन्त्रण उच्चस्तरीय समन्वय...\n",
       "Name: news_no_location, dtype: object"
      ]
     },
     "execution_count": 40,
     "metadata": {},
     "output_type": "execute_result"
    }
   ],
   "source": [
    "ujyaalo[\"news_no_location\"][22000:22010]"
   ]
  },
  {
   "cell_type": "markdown",
   "metadata": {},
   "source": [
    "3. Techpana"
   ]
  },
  {
   "cell_type": "code",
   "execution_count": 41,
   "metadata": {},
   "outputs": [],
   "source": [
    "def remove_first_location_info_techpana(news):\n",
    "    '''\n",
    "    Takes a news article and removes the location information at the start\n",
    "    '''\n",
    "    # If the location is seperated by । (halanta) \n",
    "    news_split = news.split(\"।\")\n",
    "    check_length = len(news_split[0].strip().split())\n",
    "    if check_length == 2 or check_length == 1:\n",
    "        # Only remove if the length of the possible location info contains 1 or 2 word\n",
    "        news_split.pop(0)\n",
    "        check_length = len(news_split[0].strip().split())\n",
    "        if check_length <= 3:\n",
    "            news_split.pop(0)\n",
    "        return \" । \".join(news_split)\n",
    "    return news\n",
    "techpana[\"news_no_location\"] = techpana[\"news\"].apply(remove_first_location_info_techpana)"
   ]
  },
  {
   "cell_type": "code",
   "execution_count": 42,
   "metadata": {},
   "outputs": [
    {
     "data": {
      "text/plain": [
       "21995"
      ]
     },
     "execution_count": 42,
     "metadata": {},
     "output_type": "execute_result"
    }
   ],
   "source": [
    "len(techpana[\"news\"])"
   ]
  },
  {
   "cell_type": "code",
   "execution_count": 43,
   "metadata": {},
   "outputs": [
    {
     "data": {
      "text/plain": [
       "21000    काठमाडौं । एप्पलको एप स्टोरमा अनौपचारिक रुपमा ...\n",
       "21001    काठमाडौं । सिम डुब्लिकेशनगरी मोबाइल बैंकिङबाट ...\n",
       "21002    काठमाडौं । स्थापनाको पहिलो वर्षमै माइपे डिजिटल...\n",
       "21003    काठमाडौं । विद्युतीय कारोबारलाई प्रबर्द्धन गर्...\n",
       "21004    काठमाडौं । ट्विटर, गुगल, टाइगर ग्लोबल र टेमासे...\n",
       "21005    काठमाडौं । हामीले गाउँ घर तिर गुईठा (गोबरबाट ब...\n",
       "21006    काठमाडौं । आइएमई पेले मोबाईल रिचार्जमा ५ प्रति...\n",
       "21007    काठमाडौं । एप्पलले पछिल्लो केही समयदेखि नयाँ म...\n",
       "21008    काठमाडौं । नवनियुक्त सञ्चार तथा सूचना प्रविधि ...\n",
       "21009    काठमाडौं । नयाँ ऊर्जा सवारी साधन (एनईभी) को ची...\n",
       "Name: news, dtype: object"
      ]
     },
     "execution_count": 43,
     "metadata": {},
     "output_type": "execute_result"
    }
   ],
   "source": [
    "techpana[\"news\"][21000:21010]"
   ]
  },
  {
   "cell_type": "code",
   "execution_count": 44,
   "metadata": {},
   "outputs": [
    {
     "data": {
      "text/plain": [
       "21000     एप्पलको एप स्टोरमा अनौपचारिक रुपमा च्याटजीपीट...\n",
       "21001     सिम डुब्लिकेशनगरी मोबाइल बैंकिङबाट रकम ठगी गर...\n",
       "21002     स्थापनाको पहिलो वर्षमै माइपे डिजिटल वालेटले प...\n",
       "21003     विद्युतीय कारोबारलाई प्रबर्द्धन गर्ने उद्देश्...\n",
       "21004     ट्विटर, गुगल, टाइगर ग्लोबल र टेमासेकद्वारा सम...\n",
       "21005     हामीले गाउँ घर तिर गुईठा (गोबरबाट बनाइएको दाउ...\n",
       "21006     आइएमई पेले मोबाईल रिचार्जमा ५ प्रतिशतसम्मको क...\n",
       "21007     एप्पलले पछिल्लो केही समयदेखि नयाँ म्याकबुक प्...\n",
       "21008     नवनियुक्त सञ्चार तथा सूचना प्रविधि मन्त्री रे...\n",
       "21009     नयाँ ऊर्जा सवारी साधन (एनईभी) को चीनको सबैभन्...\n",
       "Name: news_no_location, dtype: object"
      ]
     },
     "execution_count": 44,
     "metadata": {},
     "output_type": "execute_result"
    }
   ],
   "source": [
    "techpana[\"news_no_location\"][21000:21010]"
   ]
  },
  {
   "cell_type": "markdown",
   "metadata": {},
   "source": [
    "4. Ekagaz"
   ]
  },
  {
   "cell_type": "code",
   "execution_count": 45,
   "metadata": {},
   "outputs": [],
   "source": [
    "def remove_first_location_info_ekagaz(news):\n",
    "    '''\n",
    "    Takes a news article and removes the location information at the start\n",
    "    '''\n",
    "    # If the location is seperated by – \n",
    "    news_split = news.split(\"–\")\n",
    "    check_length = len(news_split[0].strip().split())\n",
    "    if check_length == 2 or check_length == 1:\n",
    "        # Only remove if the length of the possible location info contains 1 or 2 word\n",
    "        news_split.pop(0)\n",
    "        return \" \".join(news_split)\n",
    "    else:\n",
    "        # If the location is seperated by small dash -  \n",
    "        news_split = news.split(\"-\")\n",
    "        check_length = len(news_split[0].strip().split())\n",
    "        if check_length == 2 or check_length == 1:\n",
    "            # Only remove if the length of the possible location info contains 1 or 2 word\n",
    "            news_split.pop(0)\n",
    "            return \" \".join(news_split)\n",
    "        else: \n",
    "            # If the location is seperated by ।           \n",
    "            news_split = news.split(\"।\")\n",
    "            check_length = len(news_split[0].strip().split())\n",
    "            if check_length == 2 or check_length == 1:\n",
    "                # Only remove if the length of the possible location info contains 1 or 2 word\n",
    "                news_split.pop(0)\n",
    "                return \" । \".join(news_split)\n",
    "        return news\n",
    "ekagaj[\"news_no_location\"] = ekagaj[\"news\"].apply(remove_first_location_info_ekagaz)"
   ]
  },
  {
   "cell_type": "code",
   "execution_count": 46,
   "metadata": {},
   "outputs": [
    {
     "data": {
      "text/plain": [
       "18270"
      ]
     },
     "execution_count": 46,
     "metadata": {},
     "output_type": "execute_result"
    }
   ],
   "source": [
    "len(ekagaj[\"news\"])"
   ]
  },
  {
   "cell_type": "code",
   "execution_count": 47,
   "metadata": {},
   "outputs": [
    {
     "data": {
      "text/plain": [
       "7000    काठमाडौँ– राष्ट्रिय निर्वाचन आयोगले समानुपातिक...\n",
       "7001    काठमाडौँ- प्रतिनिधिसभाबाट पारित भएको विनियोजन ...\n",
       "7002    काठमाडौँ - प्रधानमन्त्री पुष्पकमल दाहाल ‘प्रचण...\n",
       "7003    काठमाडौँ- राष्ट्रियसभाबाट ‘नेपाल विश्वविद्यालय...\n",
       "7004    काठमाडौँ - राष्ट्रियसभाका सांसद खिमलाल देवकोटा...\n",
       "7005    काठमाडौँ- कृषि, सहकारी तथा प्राकृतिक स्रोत समि...\n",
       "7006    काठमाडौं - दलितका लागि छुट्टै बजेटको व्यवस्था ...\n",
       "7007    काठमाडौं - नेकपा एकीकृत समाजवादीका अध्यक्ष माध...\n",
       "7008    काठमाडौँ- राष्ट्रिय सभा उपाध्यक्ष उर्मिला अर्य...\n",
       "7009    कैलाली- प्रधानमन्त्री पुष्पकमल दाहाल प्रचण्ड आ...\n",
       "Name: news, dtype: object"
      ]
     },
     "execution_count": 47,
     "metadata": {},
     "output_type": "execute_result"
    }
   ],
   "source": [
    "ekagaj[\"news\"][7000:7010]"
   ]
  },
  {
   "cell_type": "code",
   "execution_count": 48,
   "metadata": {},
   "outputs": [
    {
     "data": {
      "text/plain": [
       "7000     राष्ट्रिय निर्वाचन आयोगले समानुपातिक सांसद दु...\n",
       "7001     प्रतिनिधिसभाबाट पारित भएको विनियोजन विधेयक, २...\n",
       "7002     प्रधानमन्त्री पुष्पकमल दाहाल ‘प्रचण्ड’ले सरका...\n",
       "7003     राष्ट्रियसभाबाट ‘नेपाल विश्वविद्यालय विधेयक–२...\n",
       "7004     राष्ट्रियसभाका सांसद खिमलाल देवकोटाले नेपालमा...\n",
       "7005     कृषि, सहकारी तथा प्राकृतिक स्रोत समितिको आन्त...\n",
       "7006     दलितका लागि छुट्टै बजेटको व्यवस्था गर्न माग ग...\n",
       "7007     नेकपा एकीकृत समाजवादीका अध्यक्ष माधवकुमार नेप...\n",
       "7008     राष्ट्रिय सभा उपाध्यक्ष उर्मिला अर्यालले दलित...\n",
       "7009     प्रधानमन्त्री पुष्पकमल दाहाल प्रचण्ड आगामी से...\n",
       "Name: news_no_location, dtype: object"
      ]
     },
     "execution_count": 48,
     "metadata": {},
     "output_type": "execute_result"
    }
   ],
   "source": [
    "ekagaj[\"news_no_location\"][7000:7010]"
   ]
  },
  {
   "cell_type": "markdown",
   "metadata": {},
   "source": [
    "5. Annapurna"
   ]
  },
  {
   "cell_type": "code",
   "execution_count": 49,
   "metadata": {},
   "outputs": [],
   "source": [
    "def remove_first_location_info_annapurna(news):\n",
    "    '''\n",
    "    Takes a news article and removes the location information at the start\n",
    "    '''\n",
    "\n",
    "    # If the location is seperated by ः\n",
    "    news_split = news.split(\"ः\")\n",
    "    check_length = len(news_split[0].strip().split())\n",
    "    if check_length == 2 or check_length == 1:\n",
    "        # Only remove if the length of the possible location info contains 1 or 2 word\n",
    "        news_split.pop(0)\n",
    "        return \" \".join(news_split)\n",
    "    else:\n",
    "        # If the location is seperated by :  \n",
    "        news_split = news.split(\":\")\n",
    "        check_length = len(news_split[0].strip().split())\n",
    "        if check_length == 2 or check_length == 1:\n",
    "            # Only remove if the length of the possible location info contains 1 or 2 word\n",
    "            news_split.pop(0)\n",
    "            return \" \".join(news_split)\n",
    "        return news\n",
    "annapurna[\"news_no_location\"] = annapurna[\"news\"].apply(remove_first_location_info_annapurna)"
   ]
  },
  {
   "cell_type": "code",
   "execution_count": 50,
   "metadata": {},
   "outputs": [
    {
     "data": {
      "text/plain": [
       "7000    मुम्बई : हट र आकर्षक हुँदाहुँदै पनि उर्वशी रौट...\n",
       "7001    प्रायः नाटकका संवाद, पृष्ठभूमिका संगीत र कथाका...\n",
       "7002    काठमाडौं : मिस नेपाल शृंखला खतिवडा नेपाल र फ्र...\n",
       "7003    नयाँदिल्ली : बलिउडका नवविवाहित कलाकार जोडी रणव...\n",
       "7004    अमेरिका : तेस्रो ग्लोबल नेपाली फिल्म अवार्ड २०...\n",
       "7005    काठमाडौं : सुबिन भट्टराईको उपन्यास समर लभमा आध...\n",
       "7006    नर्सरीदेखि कक्षा १० सम्म म एउटै विद्यालयमा पढे...\n",
       "7007    मुम्बई : बलिउड अभिनेता अक्षय कुमारले २०१९ मा ठ...\n",
       "7008    काठमाडौं : नेपाली फिल्म निर्माण सुरु भएको ५३ व...\n",
       "7009    काठमाडौं : फिल्म ‘हृदयभरि’ निर्माण हुने भएको छ...\n",
       "Name: news, dtype: object"
      ]
     },
     "execution_count": 50,
     "metadata": {},
     "output_type": "execute_result"
    }
   ],
   "source": [
    "annapurna[\"news\"][7000:7010]"
   ]
  },
  {
   "cell_type": "code",
   "execution_count": 51,
   "metadata": {},
   "outputs": [
    {
     "data": {
      "text/plain": [
       "7000     हट र आकर्षक हुँदाहुँदै पनि उर्वशी रौटेलाले बल...\n",
       "7001     नाटकका संवाद, पृष्ठभूमिका संगीत र कथाका दृश्य...\n",
       "7002     मिस नेपाल शृंखला खतिवडा नेपाल र फ्रान्सको सम्...\n",
       "7003     बलिउडका नवविवाहित कलाकार जोडी रणवीर सिंह अभिन...\n",
       "7004     तेस्रो ग्लोबल नेपाली फिल्म अवार्ड २०१८ सम्पन्...\n",
       "7005     सुबिन भट्टराईको उपन्यास समर लभमा आधारित नेपाल...\n",
       "7006    नर्सरीदेखि कक्षा १० सम्म म एउटै विद्यालयमा पढे...\n",
       "7007     बलिउड अभिनेता अक्षय कुमारले २०१९ मा ठूला फिल्...\n",
       "7008     नेपाली फिल्म निर्माण सुरु भएको ५३ वर्ष पुग्दा...\n",
       "7009     फिल्म ‘हृदयभरि’ निर्माण हुने भएको छ । सुरज सु...\n",
       "Name: news_no_location, dtype: object"
      ]
     },
     "execution_count": 51,
     "metadata": {},
     "output_type": "execute_result"
    }
   ],
   "source": [
    "annapurna[\"news_no_location\"][7000:7010]"
   ]
  },
  {
   "cell_type": "code",
   "execution_count": 52,
   "metadata": {},
   "outputs": [],
   "source": [
    "def remove_first_location_info_dcnepal(news):\n",
    "    '''\n",
    "    Takes a news article and removes the location information at the start\n",
    "    '''\n",
    "\n",
    "    # If the location is seperated by ।\n",
    "    news_split = news.split(\"।\")\n",
    "    check_length = len(news_split[0].strip().split())\n",
    "    if check_length == 2 or check_length == 1:\n",
    "        # Only remove if the length of the possible location info contains 1 or 2 word\n",
    "        news_split.pop(0)\n",
    "        return \" \".join(news_split)\n",
    "    else:\n",
    "        # If the location is seperated by , \n",
    "        news_split = news.split(\",\")\n",
    "        check_length = len(news_split[0].strip().split())\n",
    "        if check_length == 2 or check_length == 1:\n",
    "            # Only remove if the length of the possible location info contains 1 or 2 word\n",
    "            news_split.pop(0)\n",
    "            return \" \".join(news_split)\n",
    "        return news\n",
    "dcnepal[\"news_no_location\"] = dcnepal[\"news\"].apply(remove_first_location_info_dcnepal)"
   ]
  },
  {
   "cell_type": "code",
   "execution_count": 53,
   "metadata": {},
   "outputs": [
    {
     "data": {
      "text/plain": [
       "20    काठमाडौं । त्रिभुवन विश्वविद्यालयका उपकुलपति प...\n",
       "21    काठमाडौं । नेकपा (एमाले) का अध्यक्ष केपी शर्मा...\n",
       "22    विराटनगर । कोशी प्रदेशमा मन्त्रिपरिषद विस्तार ...\n",
       "23    काठमाडौं । प्रधानमन्त्री पुष्पकमल दाहाल प्रचण्...\n",
       "24    काठमाडौं। प्रधानमन्त्री पुष्पकमल दाहाल ‘प्रचण्...\n",
       "25    काठमाडौं। प्रतिनिधि सभाको राज्य व्यवस्था तथा स...\n",
       "26    काठमाडौं। प्यालेस्टाइनी अतिबादी समूह हमासको कब...\n",
       "27    काठमाडौं। सरकारको सिफारिसमा कैद कटीसहित आम माफ...\n",
       "28    काठमाडौं । युवा तथा खेलकुदमन्त्री डिगबहादुर लि...\n",
       "29    काठमाडौं । प्रतिनिधिसभाको चालु अधिवेशन आज राति...\n",
       "Name: news, dtype: object"
      ]
     },
     "execution_count": 53,
     "metadata": {},
     "output_type": "execute_result"
    }
   ],
   "source": [
    "dcnepal[\"news\"][20:30]"
   ]
  },
  {
   "cell_type": "code",
   "execution_count": 54,
   "metadata": {},
   "outputs": [
    {
     "data": {
      "text/plain": [
       "20     त्रिभुवन विश्वविद्यालयका उपकुलपति प्रा डा धर्...\n",
       "21     नेकपा (एमाले) का अध्यक्ष केपी शर्मा ओलीले नेप...\n",
       "22     कोशी प्रदेशमा मन्त्रिपरिषद विस्तार भएको छ   क...\n",
       "23     प्रधानमन्त्री पुष्पकमल दाहाल प्रचण्डको राजीना...\n",
       "24     प्रधानमन्त्री पुष्पकमल दाहाल ‘प्रचण्ड’ ले जलव...\n",
       "25     प्रतिनिधि सभाको राज्य व्यवस्था तथा सुशासन समि...\n",
       "26     प्यालेस्टाइनी अतिबादी समूह हमासको कब्जामा रहे...\n",
       "27     सरकारको सिफारिसमा कैद कटीसहित आम माफी पाएका र...\n",
       "28     युवा तथा खेलकुदमन्त्री डिगबहादुर लिम्बूसँग ने...\n",
       "29     प्रतिनिधिसभाको चालु अधिवेशन आज राति १२ः०० बजे...\n",
       "Name: news_no_location, dtype: object"
      ]
     },
     "execution_count": 54,
     "metadata": {},
     "output_type": "execute_result"
    }
   ],
   "source": [
    "dcnepal[\"news_no_location\"][20:30]"
   ]
  },
  {
   "cell_type": "code",
   "execution_count": 55,
   "metadata": {},
   "outputs": [],
   "source": [
    "def remove_first_location_info_ekantipur(news):\n",
    "    '''\n",
    "    Takes a news article and removes the location information at the start\n",
    "    '''\n",
    "\n",
    "    # If the location is seperated by – \n",
    "    news_split = news.split(\"—\")\n",
    "    check_length = len(news_split[0].strip().split())\n",
    "    if check_length == 2 or check_length == 1:\n",
    "        # Only remove if the length of the possible location info contains 1 or 2 word\n",
    "        news_split.pop(0)\n",
    "        return \" \".join(news_split)\n",
    "    else:\n",
    "        # If the location is seperated by small dash -  \n",
    "        news_split = news.split(\"-\")\n",
    "        check_length = len(news_split[0].strip().split())\n",
    "        if check_length == 2 or check_length == 1:\n",
    "            # Only remove if the length of the possible location info contains 1 or 2 word\n",
    "            news_split.pop(0)\n",
    "            return \" \".join(news_split)\n",
    "        return news\n",
    "ekantipur[\"news_no_location\"] = ekantipur[\"news\"].apply(remove_first_location_info_ekantipur)"
   ]
  },
  {
   "cell_type": "code",
   "execution_count": 56,
   "metadata": {},
   "outputs": [
    {
     "data": {
      "text/plain": [
       "20    काठमाडौँ — भक्तराज आचार्य संगीत प्रतिष्ठानले ‘...\n",
       "21    तनहुँ — मुलुकमा राजनीतिक परिवर्तनका लागि गुरुङ...\n",
       "22    काठमाडौँ — अभिनेत्री कंगना रनावत छिन् र बेलाबख...\n",
       "23    काठमाडौँ — मिस नेपाल ग्रान्ड फिनालेको मञ्च व्य...\n",
       "24    काठमाडौँ — गलामा जरिजडित दुबोको माला, भव्य आसन...\n",
       "25    काठमाडौं — कीर्तिपुरमा बिहीबार राति अबेरसम्म च...\n",
       "26    बलिउड अभिनेक्री सोनाली बेन्द्रे हालै मात्र क्य...\n",
       "27    काठमाडौँ — लामो समय दक्षिण भारतीय फिल्मले कब्ज...\n",
       "28    काठमाडौँ — पृष्ठभूमिमा भिन्न परिवेश, विभिन्न र...\n",
       "29    काठमाडौँ — बलिउडदेखि हलिउडसम्म आफ्नो फिल्मी कर...\n",
       "Name: news, dtype: object"
      ]
     },
     "execution_count": 56,
     "metadata": {},
     "output_type": "execute_result"
    }
   ],
   "source": [
    "ekantipur[\"news\"][20:30]"
   ]
  },
  {
   "cell_type": "code",
   "execution_count": 57,
   "metadata": {},
   "outputs": [
    {
     "data": {
      "text/plain": [
       "20     भक्तराज आचार्य संगीत प्रतिष्ठानले ‘भक्तराज आच...\n",
       "21     मुलुकमा राजनीतिक परिवर्तनका लागि गुरुङ समुदाय...\n",
       "22     अभिनेत्री कंगना रनावत छिन् र बेलाबखत बलिउड गर...\n",
       "23     मिस नेपाल ग्रान्ड फिनालेको मञ्च व्यवस्थापनमा ...\n",
       "24     गलामा जरिजडित दुबोको माला, भव्य आसन । सय वर्ष...\n",
       "25     कीर्तिपुरमा बिहीबार राति अबेरसम्म चलेको ग्रान...\n",
       "26    बलिउड अभिनेक्री सोनाली बेन्द्रे हालै मात्र क्य...\n",
       "27     लामो समय दक्षिण भारतीय फिल्मले कब्जा जमाएको य...\n",
       "28     पृष्ठभूमिमा भिन्न परिवेश, विभिन्न रङ, थुप्रै ...\n",
       "29     बलिउडदेखि हलिउडसम्म आफ्नो फिल्मी करिअरलाई विस...\n",
       "Name: news_no_location, dtype: object"
      ]
     },
     "execution_count": 57,
     "metadata": {},
     "output_type": "execute_result"
    }
   ],
   "source": [
    "ekantipur[\"news_no_location\"][20:30]"
   ]
  },
  {
   "cell_type": "code",
   "execution_count": 58,
   "metadata": {},
   "outputs": [],
   "source": [
    "def remove_first_location_info_imagekhabar(news):\n",
    "    '''\n",
    "    Takes a news article and removes the location information at the start\n",
    "    '''\n",
    "\n",
    "    # If the location is seperated by । \n",
    "    news_split = news.split(\"।\")\n",
    "    check_length = len(news_split[0].strip().split())\n",
    "    if check_length <= 8:\n",
    "        # Only remove if the length of the possible location info contains less than 8 words\n",
    "        news_split.pop(0)\n",
    "        return \" \".join(news_split)\n",
    "    return news\n",
    "imagekhabar[\"news_no_location\"] = imagekhabar[\"news\"].apply(remove_first_location_info_imagekhabar)"
   ]
  },
  {
   "cell_type": "code",
   "execution_count": 59,
   "metadata": {},
   "outputs": [
    {
     "data": {
      "text/plain": [
       "42150    सिडिएससी, नेपाल स्टक एक्सचेन्ज लि.र उद्योग वाण...\n",
       "42151    यो योजनाअन्तर्गत परीक्षार्थीले मात्र रु १ मा ए...\n",
       "42152    आइतबार नेप्से २४ अंकले झरेर ११९६ मा आएर थामियो...\n",
       "42153    सुनौलीस्थित बेलहिया नाकासँग सीमाना जोडिएको भार...\n",
       "42154    मलेसियन कम्पनी वाइबिडी सिमेक्स कम्पनी र महानगर...\n",
       "42155    विभागले रुट इजाजत दिने यातायात व्यवस्थापन कार्...\n",
       "42156    चालू आर्थिक वर्षको आठ महिनामा स्वदेशी तथा विदे...\n",
       "42157    तेह्रथुम चैत १८ । तेह्रथुममा साना तथा घरेलु व्...\n",
       "42158    शनिबार राजधानीमा सम्पन्न महाधिवेशनले विनोद श्र...\n",
       "42159    पछिल्लो समय स्याङगाउँका अधिकांश किसान व्यावसाय...\n",
       "Name: news, dtype: object"
      ]
     },
     "execution_count": 59,
     "metadata": {},
     "output_type": "execute_result"
    }
   ],
   "source": [
    "imagekhabar[\"news\"][42150:42160]"
   ]
  },
  {
   "cell_type": "code",
   "execution_count": 60,
   "metadata": {},
   "outputs": [
    {
     "data": {
      "text/plain": [
       "42150    सिडिएससी, नेपाल स्टक एक्सचेन्ज लि.र उद्योग वाण...\n",
       "42151    यो योजनाअन्तर्गत परीक्षार्थीले मात्र रु १ मा ए...\n",
       "42152    आइतबार नेप्से २४ अंकले झरेर ११९६ मा आएर थामियो...\n",
       "42153    सुनौलीस्थित बेलहिया नाकासँग सीमाना जोडिएको भार...\n",
       "42154    मलेसियन कम्पनी वाइबिडी सिमेक्स कम्पनी र महानगर...\n",
       "42155    विभागले रुट इजाजत दिने यातायात व्यवस्थापन कार्...\n",
       "42156    चालू आर्थिक वर्षको आठ महिनामा स्वदेशी तथा विदे...\n",
       "42157     तेह्रथुममा साना तथा घरेलु व्यवसायमा ३ हजार ३ ...\n",
       "42158    शनिबार राजधानीमा सम्पन्न महाधिवेशनले विनोद श्र...\n",
       "42159    पछिल्लो समय स्याङगाउँका अधिकांश किसान व्यावसाय...\n",
       "Name: news_no_location, dtype: object"
      ]
     },
     "execution_count": 60,
     "metadata": {},
     "output_type": "execute_result"
    }
   ],
   "source": [
    "imagekhabar[\"news_no_location\"][42150:42160]"
   ]
  },
  {
   "cell_type": "markdown",
   "metadata": {},
   "source": [
    "Combine all the processes into a single function"
   ]
  },
  {
   "cell_type": "code",
   "execution_count": 61,
   "metadata": {},
   "outputs": [],
   "source": [
    "def preprocess(df, filename, no_location=False):\n",
    "    if no_location:\n",
    "        df[\"news_no_paranthesis\"] = df[\"news\"].apply(remove_text_inside_paranthesis)\n",
    "    else:   \n",
    "        df[\"news_no_paranthesis\"] = df[\"news_no_location\"].apply(remove_text_inside_paranthesis)\n",
    "    df[\"news_cleaned\"] = df[\"news_no_paranthesis\"].apply(preprocess_text)\n",
    "    df[\"title_no_paranthesis\"] = df[\"title_colon_handled\"].apply(remove_text_inside_paranthesis)\n",
    "    df[\"title_cleaned\"] = df[\"title_no_paranthesis\"].apply(lambda x: preprocess_text(x, True))\n",
    "    df[\"title\"] = df[\"title_cleaned\"].apply(lambda x: x)\n",
    "    df[\"news\"] = df[\"news_cleaned\"].apply(lambda x: x)\n",
    "    df.to_csv(f'../news_clean/{filename}.csv', columns=[\"title\", \"news\", \"category\"], index=False)"
   ]
  },
  {
   "cell_type": "code",
   "execution_count": 62,
   "metadata": {},
   "outputs": [],
   "source": [
    "preprocess(ratopati, 'ratopati_cleaned')"
   ]
  },
  {
   "cell_type": "code",
   "execution_count": 63,
   "metadata": {},
   "outputs": [],
   "source": [
    "preprocess(ujyaalo, 'ujyaalo_cleaned')"
   ]
  },
  {
   "cell_type": "code",
   "execution_count": 64,
   "metadata": {},
   "outputs": [],
   "source": [
    "preprocess(techpana, 'techpana_cleaned')"
   ]
  },
  {
   "cell_type": "code",
   "execution_count": 65,
   "metadata": {},
   "outputs": [],
   "source": [
    "preprocess(nepalikhabar, 'nepalikhabar_cleaned', no_location=True)"
   ]
  },
  {
   "cell_type": "code",
   "execution_count": 66,
   "metadata": {},
   "outputs": [],
   "source": [
    "preprocess(ekagaj, 'ekagaj_cleaned')"
   ]
  },
  {
   "cell_type": "code",
   "execution_count": 67,
   "metadata": {},
   "outputs": [],
   "source": [
    "preprocess(annapurna, 'annapurna_cleaned')"
   ]
  },
  {
   "cell_type": "code",
   "execution_count": 68,
   "metadata": {},
   "outputs": [],
   "source": [
    "preprocess(dcnepal, 'dcnepal_cleaned')"
   ]
  },
  {
   "cell_type": "code",
   "execution_count": 69,
   "metadata": {},
   "outputs": [],
   "source": [
    "preprocess(ekantipur, 'ekantipur_cleaned')"
   ]
  },
  {
   "cell_type": "code",
   "execution_count": 70,
   "metadata": {},
   "outputs": [],
   "source": [
    "preprocess(gorkhapatra, 'gorkhapatra_cleaned', no_location=True)"
   ]
  },
  {
   "cell_type": "code",
   "execution_count": 71,
   "metadata": {},
   "outputs": [],
   "source": [
    "preprocess(imagekhabar, 'imagekhabar_cleaned')"
   ]
  },
  {
   "cell_type": "code",
   "execution_count": 72,
   "metadata": {},
   "outputs": [],
   "source": [
    "preprocess(nagarik, 'nagarik_cleaned', no_location=True)"
   ]
  },
  {
   "cell_type": "code",
   "execution_count": 73,
   "metadata": {},
   "outputs": [],
   "source": [
    "ratopati_cleaned = pd.read_csv('../news_clean/ratopati_cleaned.csv')\n",
    "ujyaalo_cleaned = pd.read_csv('../news_clean/ujyaalo_cleaned.csv')\n",
    "techpana_cleaned = pd.read_csv('../news_clean/techpana_cleaned.csv')\n",
    "nepalikhabar_cleaned = pd.read_csv('../news_clean/nepalikhabar_cleaned.csv')\n",
    "ekagaj_cleaned = pd.read_csv('../news_clean/ekagaj_cleaned.csv')\n",
    "annapurna_cleaned = pd.read_csv('../news_clean/annapurna_cleaned.csv')\n",
    "dcnepal_cleaned = pd.read_csv('../news_clean/dcnepal_cleaned.csv')\n",
    "ekantipur_cleaned = pd.read_csv('../news_clean/ekantipur_cleaned.csv')\n",
    "gorkhapatra_cleaned = pd.read_csv('../news_clean/gorkhapatra_cleaned.csv')\n",
    "imagekhabar_cleaned = pd.read_csv('../news_clean/imagekhabar_cleaned.csv')\n",
    "nagarik_cleaned = pd.read_csv('../news_clean/nagarik_cleaned.csv')"
   ]
  },
  {
   "cell_type": "code",
   "execution_count": 74,
   "metadata": {},
   "outputs": [
    {
     "name": "stdout",
     "output_type": "stream",
     "text": [
      "56680\n",
      "23884\n",
      "21995\n",
      "18264\n",
      "18270\n",
      "50797\n",
      "42111\n",
      "19430\n",
      "23350\n",
      "45047\n",
      "51812\n"
     ]
    }
   ],
   "source": [
    "print(len(ratopati_cleaned))\n",
    "print(len(ujyaalo_cleaned))\n",
    "print(len(techpana_cleaned))\n",
    "print(len(nepalikhabar_cleaned))\n",
    "print(len(ekagaj_cleaned))\n",
    "print(len(annapurna_cleaned))\n",
    "print(len(dcnepal_cleaned))\n",
    "print(len(ekantipur_cleaned))\n",
    "print(len(gorkhapatra_cleaned))\n",
    "print(len(imagekhabar_cleaned))\n",
    "print(len(nagarik_cleaned))"
   ]
  },
  {
   "cell_type": "code",
   "execution_count": 75,
   "metadata": {},
   "outputs": [
    {
     "name": "stdout",
     "output_type": "stream",
     "text": [
      "56680\n",
      "23884\n",
      "21995\n",
      "18264\n",
      "18270\n",
      "50797\n",
      "42111\n",
      "19430\n",
      "23350\n",
      "45047\n",
      "51812\n"
     ]
    }
   ],
   "source": [
    "print(len(ratopati))\n",
    "print(len(ujyaalo))\n",
    "print(len(techpana))\n",
    "print(len(nepalikhabar))\n",
    "print(len(ekagaj))\n",
    "print(len(annapurna))\n",
    "print(len(dcnepal))\n",
    "print(len(ekantipur))\n",
    "print(len(gorkhapatra))\n",
    "print(len(imagekhabar))\n",
    "print(len(nagarik))"
   ]
  },
  {
   "cell_type": "code",
   "execution_count": 76,
   "metadata": {},
   "outputs": [],
   "source": [
    "cleaned = pd.concat([ratopati_cleaned, ujyaalo_cleaned, techpana_cleaned, nepalikhabar_cleaned, ekagaj_cleaned, annapurna_cleaned, dcnepal_cleaned, ekantipur_cleaned, gorkhapatra_cleaned, imagekhabar_cleaned, nagarik_cleaned], axis=0)"
   ]
  },
  {
   "cell_type": "code",
   "execution_count": 77,
   "metadata": {},
   "outputs": [
    {
     "data": {
      "text/plain": [
       "371640"
      ]
     },
     "execution_count": 77,
     "metadata": {},
     "output_type": "execute_result"
    }
   ],
   "source": [
    "len(cleaned[\"title\"])"
   ]
  },
  {
   "cell_type": "code",
   "execution_count": 78,
   "metadata": {},
   "outputs": [
    {
     "data": {
      "text/plain": [
       "category\n",
       "राजनीति              59975\n",
       "देश/प्रदेश           51799\n",
       "समाज                 50207\n",
       "अर्थ / वाणिज्य       43020\n",
       "खेलकुद               42367\n",
       "विश्व                37817\n",
       "मनोरञ्जन             34178\n",
       "विज्ञान र प्रविधि    23130\n",
       "स्वास्थ्य            22392\n",
       "शिक्षा                6755\n",
       "Name: count, dtype: int64"
      ]
     },
     "execution_count": 78,
     "metadata": {},
     "output_type": "execute_result"
    }
   ],
   "source": [
    "cleaned[\"category\"].value_counts()"
   ]
  },
  {
   "cell_type": "code",
   "execution_count": 79,
   "metadata": {},
   "outputs": [],
   "source": [
    "cleaned.dropna(axis=0, inplace=True)"
   ]
  },
  {
   "cell_type": "code",
   "execution_count": 80,
   "metadata": {},
   "outputs": [
    {
     "data": {
      "text/plain": [
       "362897"
      ]
     },
     "execution_count": 80,
     "metadata": {},
     "output_type": "execute_result"
    }
   ],
   "source": [
    "len(cleaned[\"news\"])"
   ]
  },
  {
   "cell_type": "code",
   "execution_count": 81,
   "metadata": {},
   "outputs": [],
   "source": [
    "cleaned.to_csv('../news_clean/full_cleaned.csv', index=False)"
   ]
  },
  {
   "cell_type": "code",
   "execution_count": 82,
   "metadata": {},
   "outputs": [
    {
     "data": {
      "text/html": [
       "<div>\n",
       "<style scoped>\n",
       "    .dataframe tbody tr th:only-of-type {\n",
       "        vertical-align: middle;\n",
       "    }\n",
       "\n",
       "    .dataframe tbody tr th {\n",
       "        vertical-align: top;\n",
       "    }\n",
       "\n",
       "    .dataframe thead th {\n",
       "        text-align: right;\n",
       "    }\n",
       "</style>\n",
       "<table border=\"1\" class=\"dataframe\">\n",
       "  <thead>\n",
       "    <tr style=\"text-align: right;\">\n",
       "      <th></th>\n",
       "      <th>title</th>\n",
       "      <th>news</th>\n",
       "      <th>category</th>\n",
       "    </tr>\n",
       "  </thead>\n",
       "  <tbody>\n",
       "    <tr>\n",
       "      <th>0</th>\n",
       "      <td>निखिल उप्रेतीको भैरव फिल्मले अमेरिकामा रहेका न...</td>\n",
       "      <td>अमेरिकाका नेपालीको प्रतिक्रिया लिने इच्छा व्यक...</td>\n",
       "      <td>मनोरञ्जन</td>\n",
       "    </tr>\n",
       "    <tr>\n",
       "      <th>1</th>\n",
       "      <td>सुशील कोइरालाको निधनपछि चौरासी बाले खोले यस्ता...</td>\n",
       "      <td>झण्डै ४ बर्षअघि सुशील कोइरालाले प्रधानमन्त्रीक...</td>\n",
       "      <td>मनोरञ्जन</td>\n",
       "    </tr>\n",
       "    <tr>\n",
       "      <th>2</th>\n",
       "      <td>लिटल प्रिन्स एण्ड प्रिन्सेसको ग्रान्ड फिनाले</td>\n",
       "      <td>ग्ल्यामरस नेपालले सुरुङ्गामा लिटल प्रिन्स एन्ड...</td>\n",
       "      <td>मनोरञ्जन</td>\n",
       "    </tr>\n",
       "    <tr>\n",
       "      <th>3</th>\n",
       "      <td>अमेरिकामा सबैभन्दा धेरै कमाउने सिईओ बने पिचाई ...</td>\n",
       "      <td>गूगलका सिईओ सुन्दर पिचाई अमेरिकामा सबैभन्दा कम...</td>\n",
       "      <td>मनोरञ्जन</td>\n",
       "    </tr>\n",
       "    <tr>\n",
       "      <th>4</th>\n",
       "      <td>ज्योती मगरको धमाका दोहोरीमा र्याप</td>\n",
       "      <td>दोहोरीमा र्याप बोलको गीतको भिडियो सार्वजनिक चर...</td>\n",
       "      <td>मनोरञ्जन</td>\n",
       "    </tr>\n",
       "  </tbody>\n",
       "</table>\n",
       "</div>"
      ],
      "text/plain": [
       "                                               title  \\\n",
       "0  निखिल उप्रेतीको भैरव फिल्मले अमेरिकामा रहेका न...   \n",
       "1  सुशील कोइरालाको निधनपछि चौरासी बाले खोले यस्ता...   \n",
       "2       लिटल प्रिन्स एण्ड प्रिन्सेसको ग्रान्ड फिनाले   \n",
       "3  अमेरिकामा सबैभन्दा धेरै कमाउने सिईओ बने पिचाई ...   \n",
       "4                  ज्योती मगरको धमाका दोहोरीमा र्याप   \n",
       "\n",
       "                                                news  category  \n",
       "0  अमेरिकाका नेपालीको प्रतिक्रिया लिने इच्छा व्यक...  मनोरञ्जन  \n",
       "1  झण्डै ४ बर्षअघि सुशील कोइरालाले प्रधानमन्त्रीक...  मनोरञ्जन  \n",
       "2  ग्ल्यामरस नेपालले सुरुङ्गामा लिटल प्रिन्स एन्ड...  मनोरञ्जन  \n",
       "3  गूगलका सिईओ सुन्दर पिचाई अमेरिकामा सबैभन्दा कम...  मनोरञ्जन  \n",
       "4  दोहोरीमा र्याप बोलको गीतको भिडियो सार्वजनिक चर...  मनोरञ्जन  "
      ]
     },
     "execution_count": 82,
     "metadata": {},
     "output_type": "execute_result"
    }
   ],
   "source": [
    "cleaned.head(5)"
   ]
  },
  {
   "cell_type": "code",
   "execution_count": 83,
   "metadata": {},
   "outputs": [
    {
     "data": {
      "text/plain": [
       "362897"
      ]
     },
     "execution_count": 83,
     "metadata": {},
     "output_type": "execute_result"
    }
   ],
   "source": [
    "df = pd.read_csv('../news_clean/full_cleaned.csv')\n",
    "len(df[\"news\"])"
   ]
  }
 ],
 "metadata": {
  "kernelspec": {
   "display_name": "Python 3",
   "language": "python",
   "name": "python3"
  },
  "language_info": {
   "codemirror_mode": {
    "name": "ipython",
    "version": 3
   },
   "file_extension": ".py",
   "mimetype": "text/x-python",
   "name": "python",
   "nbconvert_exporter": "python",
   "pygments_lexer": "ipython3",
   "version": "3.11.5"
  }
 },
 "nbformat": 4,
 "nbformat_minor": 2
}
